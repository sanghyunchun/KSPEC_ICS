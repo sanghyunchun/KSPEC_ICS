{
 "cells": [
  {
   "cell_type": "code",
   "execution_count": 1,
   "id": "ec845b91",
   "metadata": {},
   "outputs": [],
   "source": [
    "import os\n",
    "import sys\n",
    "from pathlib import Path\n",
    "import numpy as np\n",
    "import matplotlib.pyplot as plt\n",
    "from pprint import pprint\n",
    "\n",
    "# test/에서 ../gfa_guider.py 경로를 import 가능하도록 설정\n",
    "sys.path.append(str(Path.cwd().parent))  # ../ (즉, src/)\n",
    "from gfa_guider import GFAGuider"
   ]
  },
  {
   "cell_type": "code",
   "execution_count": 2,
   "id": "b8147a7b",
   "metadata": {},
   "outputs": [],
   "source": [
    "# Cell 0: 모듈 및 경로 설정\n",
    "from pathlib import Path\n",
    "from gfa_astrometry import GFAAstrometry\n",
    "\n",
    "# Cell 1: 방향별 Set 정의 (각 Set은 동일한 시각의 e/n/s/w 이미지로 구성됨)\n",
    "# Cell 1: Set 파일 목록 정의\n",
    "image_dir = Path(\"/home/kspec/mingyeong/drive-download-20250624T060447Z-1-001\")\n",
    "\n",
    "set1_files = sorted(\n",
    "    [\n",
    "        image_dir / \"KMTNge.20230905T094050.0001.fits\",  # east\n",
    "        image_dir / \"KMTNgn.20230905T094050.0001.fits\",  # north\n",
    "        image_dir / \"KMTNgs.20230905T094050.0001.fits\",  # south\n",
    "        image_dir / \"KMTNgw.20230905T094050.0001.fits\",  # west\n",
    "    ]\n",
    ")\n",
    "\n",
    "set2_files = sorted(\n",
    "    [\n",
    "        image_dir / \"KMTNge.20230905T094259.0001.fits\",\n",
    "        image_dir / \"KMTNgn.20230905T094259.0001.fits\",\n",
    "        image_dir / \"KMTNgs.20230905T094259.0001.fits\",\n",
    "        image_dir / \"KMTNgw.20230905T094259.0001.fits\",\n",
    "    ]\n",
    ")\n",
    "\n",
    "set3_files = sorted(\n",
    "    [\n",
    "        image_dir / \"KMTNge.20230905T094503.0001.fits\",\n",
    "        image_dir / \"KMTNgn.20230905T094503.0001.fits\",\n",
    "        image_dir / \"KMTNgs.20230905T094503.0001.fits\",\n",
    "        image_dir / \"KMTNgw.20230905T094503.0001.fits\",\n",
    "    ]\n",
    ")"
   ]
  },
  {
   "cell_type": "code",
   "execution_count": 3,
   "id": "fc84e235",
   "metadata": {},
   "outputs": [],
   "source": [
    "# 테스트 전용 출력 디렉토리 설정\n",
    "test_astrometry_dir = \"/home/kspec/mingyeong/test_astrometry_output\"\n",
    "test_processed_dir = \"/home/kspec/mingyeong/test_processed_output\"\n",
    "test_cutout_dir = \"/home/kspec/mingyeong/test_cutouts\"\n",
    "\n",
    "os.makedirs(test_astrometry_dir, exist_ok=True)\n",
    "os.makedirs(test_processed_dir, exist_ok=True)\n",
    "os.makedirs(test_cutout_dir, exist_ok=True)"
   ]
  },
  {
   "cell_type": "code",
   "execution_count": 4,
   "id": "78705e9c",
   "metadata": {},
   "outputs": [
    {
     "name": "stdout",
     "output_type": "stream",
     "text": [
      "[2025-06-24 16:18:59] INFO - gfa_astrometry_default: Initializing gfa_astrometry class.\n",
      "[2025-06-24 16:18:59] INFO - gfa_astrometry_default: Starting preprocessing for 4 files.\n",
      "[2025-06-24 16:18:59] INFO - gfa_astrometry_default: No astrometry results found. Running full astrometric solution.\n",
      "[2025-06-24 16:18:59] INFO - gfa_astrometry_default: Starting astrometry process for proc_KMTNgn.20230905T094050.0001.fits.\n",
      "[2025-06-24 16:18:59] INFO - gfa_astrometry_default: Starting astrometry process for proc_KMTNgs.20230905T094050.0001.fits.\n",
      "[2025-06-24 16:18:59] INFO - gfa_astrometry_default: Starting astrometry process for proc_KMTNgw.20230905T094050.0001.fits.\n",
      "[2025-06-24 16:18:59] INFO - gfa_astrometry_default: Starting astrometry process for proc_KMTNge.20230905T094050.0001.fits.\n"
     ]
    },
    {
     "name": "stderr",
     "output_type": "stream",
     "text": [
      "WARNING: The following header keyword is invalid or follows an unrecognized non-standard convention:\n",
      "GAINDL                         / Pixel integration time, in sequencer clocks     [astropy.io.fits.card]\n",
      "WARNING: The following header keyword is invalid or follows an unrecognized non-standard convention:\n",
      "PIXITIME                       / Pixel integration time, in seconds              [astropy.io.fits.card]\n",
      "WARNING: The following header keyword is invalid or follows an unrecognized non-standard convention:\n",
      "PIXSCALE                       / Unbinned pixel scale [arcsec per pixel]         [astropy.io.fits.card]\n",
      "WARNING: The following header keyword is invalid or follows an unrecognized non-standard convention:\n",
      "EXPTIME                        / Exposure time [seconds]                         [astropy.io.fits.card]\n"
     ]
    },
    {
     "name": "stdout",
     "output_type": "stream",
     "text": [
      "[2025-06-24 16:19:00] INFO - gfa_astrometry_default: Astrometry results moved to /home/kspec/mingyeong/test_astrometry_output/astro_proc_KMTNgs.20230905T094050.0001.fits.\n",
      "[2025-06-24 16:19:00] INFO - gfa_astrometry_default: Astrometry completed with CRVAL1: 268.543938561, CRVAL2: -32.5619156061.\n",
      "[2025-06-24 16:19:00] INFO - gfa_astrometry_default: Combined function completed for KMTNgs.20230905T094050.0001.fits. CRVAL1: 268.543938561, CRVAL2: -32.5619156061.\n",
      "[2025-06-24 16:19:00] INFO - gfa_astrometry_default: Astrometry results moved to /home/kspec/mingyeong/test_astrometry_output/astro_proc_KMTNge.20230905T094050.0001.fits.\n",
      "[2025-06-24 16:19:00] INFO - gfa_astrometry_default: Astrometry completed with CRVAL1: 274.822403661, CRVAL2: -30.0302717159.\n",
      "[2025-06-24 16:19:00] INFO - gfa_astrometry_default: Combined function completed for KMTNge.20230905T094050.0001.fits. CRVAL1: 274.822403661, CRVAL2: -30.0302717159.\n",
      "[2025-06-24 16:19:01] INFO - gfa_astrometry_default: Astrometry results moved to /home/kspec/mingyeong/test_astrometry_output/astro_proc_KMTNgn.20230905T094050.0001.fits.\n",
      "[2025-06-24 16:19:01] INFO - gfa_astrometry_default: Astrometry completed with CRVAL1: 268.522493699, CRVAL2: -29.9542781066.\n",
      "[2025-06-24 16:19:01] INFO - gfa_astrometry_default: Combined function completed for KMTNgn.20230905T094050.0001.fits. CRVAL1: 268.522493699, CRVAL2: -29.9542781066.\n",
      "[2025-06-24 16:19:02] INFO - gfa_astrometry_default: Astrometry results moved to /home/kspec/mingyeong/test_astrometry_output/astro_proc_KMTNgw.20230905T094050.0001.fits.\n",
      "[2025-06-24 16:19:02] INFO - gfa_astrometry_default: Astrometry completed with CRVAL1: 271.808402152, CRVAL2: -30.0501303004.\n",
      "[2025-06-24 16:19:02] INFO - gfa_astrometry_default: Combined function completed for KMTNgw.20230905T094050.0001.fits. CRVAL1: 271.808402152, CRVAL2: -30.0501303004.\n",
      "[2025-06-24 16:19:02] INFO - gfa_astrometry_default: Starting star catalog generation.\n",
      "[2025-06-24 16:19:02] INFO - gfa_astrometry_default: Star catalog generated and saved to /home/kspec/mingyeong/kspec_gfa_controller/src/img/combined_star.fits.\n",
      "[2025-06-24 16:19:02] INFO - gfa_astrometry_default: Removing temporary files.\n",
      "[2025-06-24 16:19:02] INFO - gfa_astrometry_default: Preprocessing completed in 3.83 seconds.\n"
     ]
    }
   ],
   "source": [
    "# Cell 2: astrometry 객체 생성 및 사전처리 실행\n",
    "astrometry = GFAAstrometry()\n",
    "astrometry.final_astrometry_dir = test_astrometry_dir\n",
    "astrometry.processed_dir = test_processed_dir\n",
    "astrometry.cutout_path = test_cutout_dir\n",
    "\n",
    "astrometry.preproc(input_files=set1_files)"
   ]
  },
  {
   "cell_type": "code",
   "execution_count": 5,
   "id": "8e3ff3f4",
   "metadata": {},
   "outputs": [
    {
     "name": "stdout",
     "output_type": "stream",
     "text": [
      "Found 4 astrometry result files in /home/kspec/mingyeong/test_astrometry_output:\n",
      "astro_proc_KMTNge.20230905T094050.0001.fits → CRVAL1 = 274.822404, CRVAL2 = -30.030272\n",
      "astro_proc_KMTNgn.20230905T094050.0001.fits → CRVAL1 = 268.522494, CRVAL2 = -29.954278\n",
      "astro_proc_KMTNgs.20230905T094050.0001.fits → CRVAL1 = 268.543939, CRVAL2 = -32.561916\n",
      "astro_proc_KMTNgw.20230905T094050.0001.fits → CRVAL1 = 271.808402, CRVAL2 = -30.050130\n"
     ]
    }
   ],
   "source": [
    "# Cell 3: 결과 확인\n",
    "from glob import glob\n",
    "from astropy.io import fits\n",
    "\n",
    "result_files = sorted(glob(os.path.join(test_astrometry_dir, \"astro_*.fits\")))\n",
    "print(f\"Found {len(result_files)} astrometry result files in {test_astrometry_dir}:\")\n",
    "for path in result_files:\n",
    "    with fits.open(path) as hdul:\n",
    "        header = hdul[0].header\n",
    "        print(\n",
    "            f\"{os.path.basename(path)} → CRVAL1 = {header.get('CRVAL1'):.6f}, CRVAL2 = {header.get('CRVAL2'):.6f}\"\n",
    "        )"
   ]
  },
  {
   "cell_type": "code",
   "execution_count": 6,
   "id": "67499e17",
   "metadata": {},
   "outputs": [
    {
     "name": "stdout",
     "output_type": "stream",
     "text": [
      "\n",
      "Final Offsets:\n",
      "  ΔX = 0.000 arcsec\n",
      "  ΔY = 0.000 arcsec\n",
      "  FWHM = 2.409 arcsec\n"
     ]
    }
   ],
   "source": [
    "# Cell 4: 로그 파일 저장 설정 + GFAGuider 객체 생성 및 exe_cal 실행\n",
    "import logging\n",
    "\n",
    "# 로그 설정\n",
    "log_file = \"gfa_guider_default.log\"\n",
    "logger_name = \"gfa_guider_default\"\n",
    "logger = logging.getLogger(logger_name)\n",
    "logger.setLevel(logging.DEBUG)\n",
    "\n",
    "# 로그 핸들러 중복 방지 후 파일 핸들러 추가\n",
    "if not any(\n",
    "    isinstance(h, logging.FileHandler) and h.baseFilename == os.path.abspath(log_file)\n",
    "    for h in logger.handlers\n",
    "):\n",
    "    file_handler = logging.FileHandler(log_file)\n",
    "    file_handler.setLevel(logging.DEBUG)\n",
    "    formatter = logging.Formatter(\"[%(asctime)s] %(levelname)s - %(name)s: %(message)s\")\n",
    "    file_handler.setFormatter(formatter)\n",
    "    logger.addHandler(file_handler)\n",
    "\n",
    "# GFAGuider 객체 생성\n",
    "guider = GFAGuider(logger=logger)\n",
    "guider.final_astrometry_dir = test_astrometry_dir\n",
    "guider.processed_dir = test_processed_dir\n",
    "guider.cutout_path = test_cutout_dir\n",
    "guider.boxsize = 20\n",
    "\n",
    "# 실행\n",
    "fdx, fdy, fwhm = guider.exe_cal()\n",
    "\n",
    "print(\n",
    "    f\"\\nFinal Offsets:\\n  ΔX = {fdx:.3f} arcsec\\n  ΔY = {fdy:.3f} arcsec\\n  FWHM = {fwhm:.3f} arcsec\"\n",
    ")"
   ]
  }
 ],
 "metadata": {
  "kernelspec": {
   "display_name": "test-kspec",
   "language": "python",
   "name": "python3"
  },
  "language_info": {
   "codemirror_mode": {
    "name": "ipython",
    "version": 3
   },
   "file_extension": ".py",
   "mimetype": "text/x-python",
   "name": "python",
   "nbconvert_exporter": "python",
   "pygments_lexer": "ipython3",
   "version": "3.9.19"
  }
 },
 "nbformat": 4,
 "nbformat_minor": 5
}
