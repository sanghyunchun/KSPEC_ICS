{
 "cells": [
  {
   "cell_type": "code",
   "execution_count": 1,
   "metadata": {},
   "outputs": [
    {
     "name": "stderr",
     "output_type": "stream",
     "text": [
      "2024-11-19 18:06:52,993 DEBUG: Initializing adc_controller\n",
      "2024-11-19 18:07:08,693 INFO: Available Bus Hardware IDs:\n",
      "2024-11-19 18:07:08,695 INFO: ID 0: BusHardwareId(���� ���� ����* 11 (TAP-Windows Adapter V9 - SecuwaySSLU)) [bus hardware: Network Adapter, protocol: EtherCAT, hardware specifier: {D5F0D774-1012-4047-A3CD-6C88B9D70E44}]\n",
      "2024-11-19 18:07:08,696 INFO: ID 1: BusHardwareId(Wi-Fi (Intel(R) Wi-Fi 6E AX211 160MHz)) [bus hardware: Network Adapter, protocol: EtherCAT, hardware specifier: {B6138315-2713-47C0-8C29-1FE16F01733C}]\n",
      "2024-11-19 18:07:08,698 INFO: ID 2: BusHardwareId(Serial Port (COM10)) [bus hardware: Serial Port, protocol: MODBUS RTU, hardware specifier: COM10]\n",
      "2024-11-19 18:07:08,699 INFO: ID 3: BusHardwareId(Serial Port (COM4)) [bus hardware: Serial Port, protocol: MODBUS RTU, hardware specifier: COM4]\n",
      "2024-11-19 18:07:08,699 INFO: ID 4: BusHardwareId(Serial Port (COM6)) [bus hardware: Serial Port, protocol: MODBUS RTU, hardware specifier: COM6]\n",
      "2024-11-19 18:07:08,702 INFO: ID 5: BusHardwareId(Serial Port (COM3)) [bus hardware: Serial Port, protocol: MODBUS RTU, hardware specifier: COM3]\n",
      "2024-11-19 18:07:08,703 INFO: ID 6: BusHardwareId(Serial Port (COM8)) [bus hardware: Serial Port, protocol: MODBUS RTU, hardware specifier: COM8]\n",
      "2024-11-19 18:07:08,704 INFO: ID 7: BusHardwareId(USB Bus) [bus hardware: USB BUS, protocol: MODBUS VCP, hardware specifier: UsbRoot0, extra hardware specifier: UsbBusVcp]\n",
      "2024-11-19 18:07:08,705 INFO: ID 8: BusHardwareId(���� ���� ����* 11 (TAP-Windows Adapter V9 - SecuwaySSLU)) [bus hardware: Network Adapter, protocol: MODBUS TCP, hardware specifier: {D5F0D774-1012-4047-A3CD-6C88B9D70E44}]\n",
      "2024-11-19 18:07:08,706 INFO: ID 9: BusHardwareId(Wi-Fi (Intel(R) Wi-Fi 6E AX211 160MHz)) [bus hardware: Network Adapter, protocol: MODBUS TCP, hardware specifier: {B6138315-2713-47C0-8C29-1FE16F01733C}]\n",
      "2024-11-19 18:07:08,707 INFO: ID 10: BusHardwareId(���� ���� ����* 11 (TAP-Windows Adapter V9 - SecuwaySSLU)) [bus hardware: Network Adapter, protocol: RESTful API, hardware specifier: {D5F0D774-1012-4047-A3CD-6C88B9D70E44}]\n",
      "2024-11-19 18:07:08,709 INFO: ID 11: BusHardwareId(Wi-Fi (Intel(R) Wi-Fi 6E AX211 160MHz)) [bus hardware: Network Adapter, protocol: RESTful API, hardware specifier: {B6138315-2713-47C0-8C29-1FE16F01733C}]\n",
      "2024-11-19 18:07:08,710 INFO: ID 12: BusHardwareId(USB Bus) [bus hardware: USB BUS, protocol: MSC, hardware specifier: UsbRoot0, extra hardware specifier: UsbBusMsc]\n"
     ]
    },
    {
     "name": "stdout",
     "output_type": "stream",
     "text": [
      "Scan started.\n",
      "............................................................................................................................."
     ]
    },
    {
     "name": "stderr",
     "output_type": "stream",
     "text": [
      "2024-11-19 18:07:51,281 INFO: Device IDs found:\n",
      "2024-11-19 18:07:51,283 INFO: ID 0: <nanotec_nanolib.Nanolib.DeviceId; proxy of <Swig Object of type 'nlc::DeviceId *' at 0x00000244CE233A50> >\n",
      "2024-11-19 18:07:51,284 INFO: ID 1: <nanotec_nanolib.Nanolib.DeviceId; proxy of <Swig Object of type 'nlc::DeviceId *' at 0x00000244CE233A50> >\n",
      "2024-11-19 18:07:51,286 INFO: <nanotec_nanolib.Nanolib.DeviceHandle; proxy of <Swig Object of type 'nlc::DeviceHandle *' at 0x00000244CE233A50> >\n",
      "2024-11-19 18:07:51,287 INFO: <nanotec_nanolib.Nanolib.DeviceHandle; proxy of <Swig Object of type 'nlc::DeviceHandle *' at 0x00000244CE233DB0> >\n"
     ]
    },
    {
     "name": "stdout",
     "output_type": "stream",
     "text": [
      "\n",
      "Scan finished.\n"
     ]
    }
   ],
   "source": [
    "from adc_controller import adc_controller\n",
    "\n",
    "controller = adc_controller()\n",
    "controller.find_devices()"
   ]
  },
  {
   "cell_type": "code",
   "execution_count": 2,
   "metadata": {},
   "outputs": [
    {
     "name": "stderr",
     "output_type": "stream",
     "text": [
      "2024-11-19 18:07:54,241 DEBUG: Connecting devices\n",
      "2024-11-19 18:07:54,409 INFO: Device 1 connected successfully.\n",
      "2024-11-19 18:07:54,585 INFO: Device 2 connected successfully.\n",
      "2024-11-19 18:07:54,588 DEBUG: Checking device and connection states, including Modbus RTU network status\n",
      "2024-11-19 18:07:54,618 INFO: Device states: {'motor1': {'connection_state': True, 'device_state': '', 'extra_state': True}, 'motor2': {'connection_state': True, 'device_state': '', 'extra_state': True}}\n"
     ]
    },
    {
     "data": {
      "text/plain": [
       "{'motor1': {'connection_state': True, 'device_state': '', 'extra_state': True},\n",
       " 'motor2': {'connection_state': True, 'device_state': '', 'extra_state': True}}"
      ]
     },
     "execution_count": 2,
     "metadata": {},
     "output_type": "execute_result"
    }
   ],
   "source": [
    "controller.connect()\n",
    "controller.device_state()"
   ]
  },
  {
   "cell_type": "code",
   "execution_count": 3,
   "metadata": {},
   "outputs": [
    {
     "name": "stderr",
     "output_type": "stream",
     "text": [
      "2024-11-19 18:07:56,301 DEBUG: Reading position of Motor 1\n",
      "2024-11-19 18:07:56,329 INFO: Motor 1 current position: 0\n",
      "2024-11-19 18:07:56,331 DEBUG: Reading position of Motor 2\n",
      "2024-11-19 18:07:56,345 INFO: Motor 2 current position: 4100\n"
     ]
    },
    {
     "data": {
      "text/plain": [
       "4100"
      ]
     },
     "execution_count": 3,
     "metadata": {},
     "output_type": "execute_result"
    }
   ],
   "source": [
    "controller.read_motor_position(1)\n",
    "controller.read_motor_position(2)"
   ]
  },
  {
   "cell_type": "code",
   "execution_count": 5,
   "metadata": {},
   "outputs": [
    {
     "name": "stderr",
     "output_type": "stream",
     "text": [
      "2024-11-19 18:08:21,010 DEBUG: Starting the homing process for both motors...\n",
      "2024-11-19 18:08:21,012 INFO: Both motors are confirmed to be connected.\n",
      "2024-11-19 18:08:21,014 DEBUG: Reading the initial position of Motor 1...\n",
      "2024-11-19 18:08:21,035 INFO: Motor 1 initial position read as: 0\n",
      "2024-11-19 18:08:21,037 DEBUG: Reading the initial position of Motor 2...\n",
      "2024-11-19 18:08:21,051 INFO: Motor 2 initial position read as: 0\n",
      "2024-11-19 18:08:21,052 INFO: Both motors are already at the home position. No movement needed.\n"
     ]
    }
   ],
   "source": [
    "controller.homing()"
   ]
  },
  {
   "cell_type": "code",
   "execution_count": null,
   "metadata": {},
   "outputs": [],
   "source": [
    "controller.disconnect()\n",
    "controller.close()"
   ]
  }
 ],
 "metadata": {
  "kernelspec": {
   "display_name": "Python 3",
   "language": "python",
   "name": "python3"
  },
  "language_info": {
   "codemirror_mode": {
    "name": "ipython",
    "version": 3
   },
   "file_extension": ".py",
   "mimetype": "text/x-python",
   "name": "python",
   "nbconvert_exporter": "python",
   "pygments_lexer": "ipython3",
   "version": "3.11.9"
  }
 },
 "nbformat": 4,
 "nbformat_minor": 2
}
