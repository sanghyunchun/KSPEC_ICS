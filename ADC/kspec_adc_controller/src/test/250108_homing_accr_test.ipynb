{
 "cells": [
  {
   "cell_type": "code",
   "execution_count": 1,
   "metadata": {},
   "outputs": [],
   "source": [
    "import asyncio\n",
    "from adc_controller import AdcController\n",
    "from adc_logger import AdcLogger\n",
    "\n",
    "import matplotlib.pyplot as plt"
   ]
  },
  {
   "cell_type": "code",
   "execution_count": 2,
   "metadata": {},
   "outputs": [
    {
     "name": "stderr",
     "output_type": "stream",
     "text": [
      "2025-01-08 14:54:16 [DEBUG] Initializing AdcController\n",
      "2025-01-08 14:54:16 [INFO] Starting the process to find devices...\n",
      "2025-01-08 14:54:16 [INFO] ID 0: BusHardwareId(���� ���� ����* 11 (TAP-Windows Adapter V9 - SecuwaySSLU)) [bus hardware: Network Adapter, protocol: EtherCAT, hardware specifier: {6F66967D-2C7A-453E-9BE9-B3C3C041A83C}]\n",
      "2025-01-08 14:54:16 [INFO] ID 1: BusHardwareId(Wi-Fi (Intel(R) Wi-Fi 6E AX211 160MHz)) [bus hardware: Network Adapter, protocol: EtherCAT, hardware specifier: {85B9F7EF-9B8F-408F-ABBC-374426446F5C}]\n",
      "2025-01-08 14:54:16 [INFO] ID 2: BusHardwareId(Serial Port (COM3)) [bus hardware: Serial Port, protocol: MODBUS RTU, hardware specifier: COM3]\n",
      "2025-01-08 14:54:16 [INFO] ID 3: BusHardwareId(Serial Port (COM4)) [bus hardware: Serial Port, protocol: MODBUS RTU, hardware specifier: COM4]\n",
      "2025-01-08 14:54:16 [INFO] ID 4: BusHardwareId(USB Bus) [bus hardware: USB BUS, protocol: MODBUS VCP, hardware specifier: UsbRoot0, extra hardware specifier: UsbBusVcp]\n",
      "2025-01-08 14:54:16 [INFO] ID 5: BusHardwareId(���� ���� ����* 11 (TAP-Windows Adapter V9 - SecuwaySSLU)) [bus hardware: Network Adapter, protocol: MODBUS TCP, hardware specifier: {6F66967D-2C7A-453E-9BE9-B3C3C041A83C}]\n",
      "2025-01-08 14:54:16 [INFO] ID 6: BusHardwareId(Wi-Fi (Intel(R) Wi-Fi 6E AX211 160MHz)) [bus hardware: Network Adapter, protocol: MODBUS TCP, hardware specifier: {85B9F7EF-9B8F-408F-ABBC-374426446F5C}]\n",
      "2025-01-08 14:54:16 [INFO] ID 7: BusHardwareId(���� ���� ����* 11 (TAP-Windows Adapter V9 - SecuwaySSLU)) [bus hardware: Network Adapter, protocol: RESTful API, hardware specifier: {6F66967D-2C7A-453E-9BE9-B3C3C041A83C}]\n",
      "2025-01-08 14:54:16 [INFO] ID 8: BusHardwareId(Wi-Fi (Intel(R) Wi-Fi 6E AX211 160MHz)) [bus hardware: Network Adapter, protocol: RESTful API, hardware specifier: {85B9F7EF-9B8F-408F-ABBC-374426446F5C}]\n",
      "2025-01-08 14:54:16 [INFO] ID 9: BusHardwareId(USB Bus) [bus hardware: USB BUS, protocol: MSC, hardware specifier: UsbRoot0, extra hardware specifier: UsbBusMsc]\n",
      "2025-01-08 14:54:16 [INFO] Selected bus hardware ID: <nanotec_nanolib.Nanolib.BusHardwareId; proxy of <Swig Object of type 'nlc::BusHardwareId *' at 0x0000026CBA88BE10> >\n"
     ]
    },
    {
     "name": "stdout",
     "output_type": "stream",
     "text": [
      "Scan started.\n",
      "............................................................................................................................."
     ]
    },
    {
     "name": "stderr",
     "output_type": "stream",
     "text": [
      "2025-01-08 14:54:44 [INFO] Device 1 added successfully.\n",
      "2025-01-08 14:54:44 [INFO] Device 2 added successfully.\n"
     ]
    },
    {
     "name": "stdout",
     "output_type": "stream",
     "text": [
      "\n",
      "Scan finished.\n"
     ]
    },
    {
     "name": "stderr",
     "output_type": "stream",
     "text": [
      "2025-01-08 14:54:44 [INFO] Device 1 connected successfully.\n",
      "2025-01-08 14:54:44 [INFO] Device 2 connected successfully.\n"
     ]
    }
   ],
   "source": [
    "# Set up the logger and controller\n",
    "logger = AdcLogger()\n",
    "controller = AdcController(logger)\n",
    "\n",
    "controller.find_devices()\n",
    "controller.connect()"
   ]
  },
  {
   "cell_type": "code",
   "execution_count": 27,
   "metadata": {},
   "outputs": [],
   "source": [
    "\n",
    "async def run_homing_test(homing_vel, sleep_time):\n",
    "    pos1_list = []\n",
    "    pos2_list = []\n",
    "    \n",
    "    # 30번 테스트 반복\n",
    "    for _ in range(10):\n",
    "        await controller.homing(homing_vel, sleep_time)\n",
    "        pos1 = controller.read_motor_position(1)\n",
    "        pos1_list.append(pos1)\n",
    "        pos2 = controller.read_motor_position(2)\n",
    "        pos2_list.append(pos2)\n",
    "\n",
    "        # Motor 이동\n",
    "        await asyncio.gather(\n",
    "            asyncio.to_thread(controller.move_motor, 1, -1000, 5),\n",
    "            asyncio.to_thread(controller.move_motor, 2, -1000, 5)\n",
    "        )\n",
    "\n",
    "    # 결과를 텍스트 파일에 저장\n",
    "    with open('motor_positions.txt', 'w') as f:\n",
    "        f.write(\"Motor 1 Positions:\\n\")\n",
    "        for pos in pos1_list:\n",
    "            f.write(f\"{pos}\\n\")\n",
    "        \n",
    "        f.write(\"\\nMotor 2 Positions:\\n\")\n",
    "        for pos in pos2_list:\n",
    "            f.write(f\"{pos}\\n\")\n",
    "\n",
    "    # 히스토그램 그리기\n",
    "    plt.figure(figsize=(10, 5))\n",
    "    plt.subplot(1, 2, 1)\n",
    "    plt.hist(pos1_list, bins=10, alpha=0.5, label='Motor 1')\n",
    "    plt.hist(pos2_list, bins=10, alpha=0.5, label='Motor 2')\n",
    "    plt.title('Motor Position (counts)')\n",
    "    plt.legend()\n",
    "\n",
    "    # 히스토그램을 파일로 저장\n",
    "    plt.tight_layout()\n",
    "    plt.savefig('motor_position_hist.png')\n",
    "    plt.close()"
   ]
  },
  {
   "cell_type": "code",
   "execution_count": 28,
   "metadata": {},
   "outputs": [],
   "source": [
    "async def main():\n",
    "    # Homing_vel과 asyncio.sleep() 값 설정\n",
    "    vel = 1\n",
    "    sleep_time = 0.001 # 1키로헤르츠\n",
    "    homing_vel = [1, 3, 5]\n",
    "    asyncio_sleep = [0.01, 0.05, 0.1]\n",
    "    await run_homing_test(vel, sleep_time)"
   ]
  },
  {
   "cell_type": "code",
   "execution_count": 29,
   "metadata": {},
   "outputs": [
    {
     "name": "stderr",
     "output_type": "stream",
     "text": [
      "2025-01-08 16:00:30 [INFO] Initializing homing process for Motor...\n",
      "2025-01-08 16:00:30 [INFO] Finding home position for Motor...\n",
      "2025-01-08 16:00:30 [INFO] Monitoring raw value for Motor 1...\n"
     ]
    },
    {
     "name": "stdout",
     "output_type": "stream",
     "text": [
      "None\n"
     ]
    },
    {
     "name": "stderr",
     "output_type": "stream",
     "text": [
      "2025-01-08 16:00:30 [INFO] Monitoring raw value for Motor 2...\n",
      "2025-01-08 16:00:46 [DEBUG] Stopping Motor 1\n",
      "2025-01-08 16:00:47 [INFO] Motor 1 stopped successfully.\n",
      "2025-01-08 16:00:47 [ERROR] Motor 1 halt failed.\n",
      "2025-01-08 16:00:47 [INFO] Home position found for Motor 1.\n",
      "2025-01-08 16:00:47 [DEBUG] Stopping Motor 2\n",
      "2025-01-08 16:00:47 [INFO] Motor 2 stopped successfully.\n",
      "2025-01-08 16:00:47 [ERROR] Motor 2 halt failed.\n",
      "2025-01-08 16:00:47 [INFO] Home position found for Motor 2.\n",
      "2025-01-08 16:00:47 [INFO] Home position for Motor 1 : 2773\n",
      "2025-01-08 16:00:47 [INFO] Home position for Motor 2 : 1890\n",
      "2025-01-08 16:00:47 [INFO] Homing complete. Home position:\n",
      "2025-01-08 16:00:47 [INFO]  Motor 1: 2773, Motor 2: 1890\n",
      "2025-01-08 16:00:47 [INFO] Current position:\n",
      "2025-01-08 16:00:47 [INFO]  Motor 1: 2773, Motor 2: 1890\n",
      "2025-01-08 16:00:47 [DEBUG] Moving Motor 1 to position -1000 with velocity 5\n",
      "2025-01-08 16:00:47 [DEBUG] Moving Motor 2 to position -1000 with velocity 5\n",
      "2025-01-08 16:00:51 [INFO] Initializing homing process for Motor...\n",
      "2025-01-08 16:00:51 [INFO] Finding home position for Motor...\n",
      "2025-01-08 16:00:51 [INFO] Monitoring raw value for Motor 1...\n"
     ]
    },
    {
     "name": "stdout",
     "output_type": "stream",
     "text": [
      "None\n"
     ]
    },
    {
     "name": "stderr",
     "output_type": "stream",
     "text": [
      "2025-01-08 16:00:51 [INFO] Monitoring raw value for Motor 2...\n",
      "2025-01-08 16:01:08 [DEBUG] Stopping Motor 1\n",
      "2025-01-08 16:01:08 [INFO] Motor 1 stopped successfully.\n",
      "2025-01-08 16:01:08 [ERROR] Motor 1 halt failed.\n",
      "2025-01-08 16:01:08 [INFO] Home position found for Motor 1.\n",
      "2025-01-08 16:01:08 [DEBUG] Stopping Motor 2\n",
      "2025-01-08 16:01:08 [INFO] Motor 2 stopped successfully.\n",
      "2025-01-08 16:01:08 [ERROR] Motor 2 halt failed.\n",
      "2025-01-08 16:01:08 [INFO] Home position found for Motor 2.\n",
      "2025-01-08 16:01:08 [INFO] Home position for Motor 1 : 2773\n",
      "2025-01-08 16:01:08 [INFO] Home position for Motor 2 : 1890\n",
      "2025-01-08 16:01:08 [INFO] Homing complete. Home position:\n",
      "2025-01-08 16:01:08 [INFO]  Motor 1: 2773, Motor 2: 1890\n",
      "2025-01-08 16:01:08 [INFO] Current position:\n",
      "2025-01-08 16:01:08 [INFO]  Motor 1: 2773, Motor 2: 1890\n",
      "2025-01-08 16:01:08 [DEBUG] Moving Motor 1 to position -1000 with velocity 5\n",
      "2025-01-08 16:01:08 [DEBUG] Moving Motor 2 to position -1000 with velocity 5\n",
      "2025-01-08 16:01:13 [INFO] Initializing homing process for Motor...\n",
      "2025-01-08 16:01:13 [INFO] Finding home position for Motor...\n",
      "2025-01-08 16:01:13 [INFO] Monitoring raw value for Motor 1...\n"
     ]
    },
    {
     "name": "stdout",
     "output_type": "stream",
     "text": [
      "None\n"
     ]
    },
    {
     "name": "stderr",
     "output_type": "stream",
     "text": [
      "2025-01-08 16:01:13 [INFO] Monitoring raw value for Motor 2...\n",
      "2025-01-08 16:01:29 [DEBUG] Stopping Motor 1\n",
      "2025-01-08 16:01:29 [INFO] Motor 1 stopped successfully.\n",
      "2025-01-08 16:01:29 [ERROR] Motor 1 halt failed.\n",
      "2025-01-08 16:01:29 [INFO] Home position found for Motor 1.\n",
      "2025-01-08 16:01:30 [DEBUG] Stopping Motor 2\n",
      "2025-01-08 16:01:30 [INFO] Motor 2 stopped successfully.\n",
      "2025-01-08 16:01:30 [ERROR] Motor 2 halt failed.\n",
      "2025-01-08 16:01:30 [INFO] Home position found for Motor 2.\n",
      "2025-01-08 16:01:30 [INFO] Home position for Motor 1 : 2773\n",
      "2025-01-08 16:01:30 [INFO] Home position for Motor 2 : 1890\n",
      "2025-01-08 16:01:30 [INFO] Homing complete. Home position:\n",
      "2025-01-08 16:01:30 [INFO]  Motor 1: 2773, Motor 2: 1890\n",
      "2025-01-08 16:01:30 [INFO] Current position:\n",
      "2025-01-08 16:01:30 [INFO]  Motor 1: 2773, Motor 2: 1890\n",
      "2025-01-08 16:01:30 [DEBUG] Moving Motor 1 to position -1000 with velocity 5\n",
      "2025-01-08 16:01:30 [DEBUG] Moving Motor 2 to position -1000 with velocity 5\n",
      "2025-01-08 16:01:34 [INFO] Initializing homing process for Motor...\n",
      "2025-01-08 16:01:34 [INFO] Finding home position for Motor...\n",
      "2025-01-08 16:01:34 [INFO] Monitoring raw value for Motor 1...\n"
     ]
    },
    {
     "name": "stdout",
     "output_type": "stream",
     "text": [
      "None\n"
     ]
    },
    {
     "name": "stderr",
     "output_type": "stream",
     "text": [
      "2025-01-08 16:01:34 [INFO] Monitoring raw value for Motor 2...\n",
      "2025-01-08 16:01:51 [DEBUG] Stopping Motor 1\n",
      "2025-01-08 16:01:51 [INFO] Motor 1 stopped successfully.\n",
      "2025-01-08 16:01:51 [ERROR] Motor 1 halt failed.\n",
      "2025-01-08 16:01:51 [INFO] Home position found for Motor 1.\n",
      "2025-01-08 16:01:51 [DEBUG] Stopping Motor 2\n",
      "2025-01-08 16:01:51 [INFO] Motor 2 stopped successfully.\n",
      "2025-01-08 16:01:51 [ERROR] Motor 2 halt failed.\n",
      "2025-01-08 16:01:51 [INFO] Home position found for Motor 2.\n",
      "2025-01-08 16:01:51 [INFO] Home position for Motor 1 : 2774\n",
      "2025-01-08 16:01:51 [INFO] Home position for Motor 2 : 1890\n",
      "2025-01-08 16:01:51 [INFO] Homing complete. Home position:\n",
      "2025-01-08 16:01:51 [INFO]  Motor 1: 2774, Motor 2: 1890\n",
      "2025-01-08 16:01:51 [INFO] Current position:\n",
      "2025-01-08 16:01:51 [INFO]  Motor 1: 2774, Motor 2: 1890\n",
      "2025-01-08 16:01:51 [DEBUG] Moving Motor 1 to position -1000 with velocity 5\n",
      "2025-01-08 16:01:51 [DEBUG] Moving Motor 2 to position -1000 with velocity 5\n",
      "2025-01-08 16:01:56 [INFO] Initializing homing process for Motor...\n",
      "2025-01-08 16:01:56 [INFO] Finding home position for Motor...\n",
      "2025-01-08 16:01:56 [INFO] Monitoring raw value for Motor 1...\n"
     ]
    },
    {
     "name": "stdout",
     "output_type": "stream",
     "text": [
      "None\n"
     ]
    },
    {
     "name": "stderr",
     "output_type": "stream",
     "text": [
      "2025-01-08 16:01:56 [INFO] Monitoring raw value for Motor 2...\n",
      "2025-01-08 16:02:12 [DEBUG] Stopping Motor 1\n",
      "2025-01-08 16:02:12 [INFO] Motor 1 stopped successfully.\n",
      "2025-01-08 16:02:12 [ERROR] Motor 1 halt failed.\n",
      "2025-01-08 16:02:12 [INFO] Home position found for Motor 1.\n",
      "2025-01-08 16:02:12 [DEBUG] Stopping Motor 2\n",
      "2025-01-08 16:02:12 [INFO] Motor 2 stopped successfully.\n",
      "2025-01-08 16:02:12 [ERROR] Motor 2 halt failed.\n",
      "2025-01-08 16:02:12 [INFO] Home position found for Motor 2.\n",
      "2025-01-08 16:02:13 [INFO] Home position for Motor 1 : 2773\n",
      "2025-01-08 16:02:13 [INFO] Home position for Motor 2 : 1890\n",
      "2025-01-08 16:02:13 [INFO] Homing complete. Home position:\n",
      "2025-01-08 16:02:13 [INFO]  Motor 1: 2773, Motor 2: 1890\n",
      "2025-01-08 16:02:13 [INFO] Current position:\n",
      "2025-01-08 16:02:13 [INFO]  Motor 1: 2773, Motor 2: 1890\n",
      "2025-01-08 16:02:13 [DEBUG] Moving Motor 1 to position -1000 with velocity 5\n",
      "2025-01-08 16:02:13 [DEBUG] Moving Motor 2 to position -1000 with velocity 5\n",
      "2025-01-08 16:02:17 [INFO] Initializing homing process for Motor...\n",
      "2025-01-08 16:02:17 [INFO] Finding home position for Motor...\n",
      "2025-01-08 16:02:17 [INFO] Monitoring raw value for Motor 1...\n"
     ]
    },
    {
     "name": "stdout",
     "output_type": "stream",
     "text": [
      "None\n"
     ]
    },
    {
     "name": "stderr",
     "output_type": "stream",
     "text": [
      "2025-01-08 16:02:17 [INFO] Monitoring raw value for Motor 2...\n",
      "2025-01-08 16:02:34 [DEBUG] Stopping Motor 1\n",
      "2025-01-08 16:02:34 [INFO] Motor 1 stopped successfully.\n",
      "2025-01-08 16:02:34 [ERROR] Motor 1 halt failed.\n",
      "2025-01-08 16:02:34 [INFO] Home position found for Motor 1.\n",
      "2025-01-08 16:02:34 [DEBUG] Stopping Motor 2\n",
      "2025-01-08 16:02:34 [INFO] Motor 2 stopped successfully.\n",
      "2025-01-08 16:02:34 [ERROR] Motor 2 halt failed.\n",
      "2025-01-08 16:02:34 [INFO] Home position found for Motor 2.\n",
      "2025-01-08 16:02:34 [INFO] Home position for Motor 1 : 2774\n",
      "2025-01-08 16:02:34 [INFO] Home position for Motor 2 : 1890\n",
      "2025-01-08 16:02:34 [INFO] Homing complete. Home position:\n",
      "2025-01-08 16:02:34 [INFO]  Motor 1: 2774, Motor 2: 1890\n",
      "2025-01-08 16:02:34 [INFO] Current position:\n",
      "2025-01-08 16:02:34 [INFO]  Motor 1: 2774, Motor 2: 1890\n",
      "2025-01-08 16:02:34 [DEBUG] Moving Motor 1 to position -1000 with velocity 5\n",
      "2025-01-08 16:02:34 [DEBUG] Moving Motor 2 to position -1000 with velocity 5\n",
      "2025-01-08 16:02:38 [INFO] Initializing homing process for Motor...\n",
      "2025-01-08 16:02:38 [INFO] Finding home position for Motor...\n",
      "2025-01-08 16:02:39 [INFO] Monitoring raw value for Motor 1...\n"
     ]
    },
    {
     "name": "stdout",
     "output_type": "stream",
     "text": [
      "None\n"
     ]
    },
    {
     "name": "stderr",
     "output_type": "stream",
     "text": [
      "2025-01-08 16:02:39 [INFO] Monitoring raw value for Motor 2...\n",
      "2025-01-08 16:02:55 [DEBUG] Stopping Motor 1\n",
      "2025-01-08 16:02:55 [INFO] Motor 1 stopped successfully.\n",
      "2025-01-08 16:02:55 [ERROR] Motor 1 halt failed.\n",
      "2025-01-08 16:02:55 [INFO] Home position found for Motor 1.\n",
      "2025-01-08 16:02:55 [DEBUG] Stopping Motor 2\n",
      "2025-01-08 16:02:55 [INFO] Motor 2 stopped successfully.\n",
      "2025-01-08 16:02:55 [ERROR] Motor 2 halt failed.\n",
      "2025-01-08 16:02:55 [INFO] Home position found for Motor 2.\n",
      "2025-01-08 16:02:55 [INFO] Home position for Motor 1 : 2774\n",
      "2025-01-08 16:02:55 [INFO] Home position for Motor 2 : 1890\n",
      "2025-01-08 16:02:55 [INFO] Homing complete. Home position:\n",
      "2025-01-08 16:02:55 [INFO]  Motor 1: 2774, Motor 2: 1890\n",
      "2025-01-08 16:02:55 [INFO] Current position:\n",
      "2025-01-08 16:02:55 [INFO]  Motor 1: 2774, Motor 2: 1890\n",
      "2025-01-08 16:02:55 [DEBUG] Moving Motor 1 to position -1000 with velocity 5\n",
      "2025-01-08 16:02:55 [DEBUG] Moving Motor 2 to position -1000 with velocity 5\n",
      "2025-01-08 16:03:00 [INFO] Initializing homing process for Motor...\n",
      "2025-01-08 16:03:00 [INFO] Finding home position for Motor...\n",
      "2025-01-08 16:03:00 [INFO] Monitoring raw value for Motor 1...\n"
     ]
    },
    {
     "name": "stdout",
     "output_type": "stream",
     "text": [
      "None\n"
     ]
    },
    {
     "name": "stderr",
     "output_type": "stream",
     "text": [
      "2025-01-08 16:03:00 [INFO] Monitoring raw value for Motor 2...\n",
      "2025-01-08 16:03:17 [DEBUG] Stopping Motor 1\n",
      "2025-01-08 16:03:17 [INFO] Motor 1 stopped successfully.\n",
      "2025-01-08 16:03:17 [ERROR] Motor 1 halt failed.\n",
      "2025-01-08 16:03:17 [INFO] Home position found for Motor 1.\n",
      "2025-01-08 16:03:17 [DEBUG] Stopping Motor 2\n",
      "2025-01-08 16:03:17 [INFO] Motor 2 stopped successfully.\n",
      "2025-01-08 16:03:17 [ERROR] Motor 2 halt failed.\n",
      "2025-01-08 16:03:17 [INFO] Home position found for Motor 2.\n",
      "2025-01-08 16:03:17 [INFO] Home position for Motor 1 : 2774\n",
      "2025-01-08 16:03:17 [INFO] Home position for Motor 2 : 1890\n",
      "2025-01-08 16:03:17 [INFO] Homing complete. Home position:\n",
      "2025-01-08 16:03:17 [INFO]  Motor 1: 2774, Motor 2: 1890\n",
      "2025-01-08 16:03:17 [INFO] Current position:\n",
      "2025-01-08 16:03:17 [INFO]  Motor 1: 2774, Motor 2: 1890\n",
      "2025-01-08 16:03:17 [DEBUG] Moving Motor 1 to position -1000 with velocity 5\n",
      "2025-01-08 16:03:17 [DEBUG] Moving Motor 2 to position -1000 with velocity 5\n",
      "2025-01-08 16:03:21 [INFO] Initializing homing process for Motor...\n",
      "2025-01-08 16:03:21 [INFO] Finding home position for Motor...\n",
      "2025-01-08 16:03:21 [INFO] Monitoring raw value for Motor 1...\n"
     ]
    },
    {
     "name": "stdout",
     "output_type": "stream",
     "text": [
      "None\n"
     ]
    },
    {
     "name": "stderr",
     "output_type": "stream",
     "text": [
      "2025-01-08 16:03:22 [INFO] Monitoring raw value for Motor 2...\n",
      "2025-01-08 16:03:38 [DEBUG] Stopping Motor 1\n",
      "2025-01-08 16:03:38 [INFO] Motor 1 stopped successfully.\n",
      "2025-01-08 16:03:38 [ERROR] Motor 1 halt failed.\n",
      "2025-01-08 16:03:38 [INFO] Home position found for Motor 1.\n",
      "2025-01-08 16:03:38 [DEBUG] Stopping Motor 2\n",
      "2025-01-08 16:03:38 [INFO] Motor 2 stopped successfully.\n",
      "2025-01-08 16:03:38 [ERROR] Motor 2 halt failed.\n",
      "2025-01-08 16:03:38 [INFO] Home position found for Motor 2.\n",
      "2025-01-08 16:03:38 [INFO] Home position for Motor 1 : 2773\n",
      "2025-01-08 16:03:38 [INFO] Home position for Motor 2 : 1890\n",
      "2025-01-08 16:03:38 [INFO] Homing complete. Home position:\n",
      "2025-01-08 16:03:38 [INFO]  Motor 1: 2773, Motor 2: 1890\n",
      "2025-01-08 16:03:38 [INFO] Current position:\n",
      "2025-01-08 16:03:38 [INFO]  Motor 1: 2773, Motor 2: 1890\n",
      "2025-01-08 16:03:38 [DEBUG] Moving Motor 1 to position -1000 with velocity 5\n",
      "2025-01-08 16:03:38 [DEBUG] Moving Motor 2 to position -1000 with velocity 5\n",
      "2025-01-08 16:03:43 [INFO] Initializing homing process for Motor...\n",
      "2025-01-08 16:03:43 [INFO] Finding home position for Motor...\n",
      "2025-01-08 16:03:43 [INFO] Monitoring raw value for Motor 1...\n"
     ]
    },
    {
     "name": "stdout",
     "output_type": "stream",
     "text": [
      "None\n"
     ]
    },
    {
     "name": "stderr",
     "output_type": "stream",
     "text": [
      "2025-01-08 16:03:43 [INFO] Monitoring raw value for Motor 2...\n",
      "2025-01-08 16:03:59 [DEBUG] Stopping Motor 1\n",
      "2025-01-08 16:03:59 [INFO] Motor 1 stopped successfully.\n",
      "2025-01-08 16:04:00 [ERROR] Motor 1 halt failed.\n",
      "2025-01-08 16:04:00 [INFO] Home position found for Motor 1.\n",
      "2025-01-08 16:04:00 [DEBUG] Stopping Motor 2\n",
      "2025-01-08 16:04:00 [INFO] Motor 2 stopped successfully.\n",
      "2025-01-08 16:04:00 [ERROR] Motor 2 halt failed.\n",
      "2025-01-08 16:04:00 [INFO] Home position found for Motor 2.\n",
      "2025-01-08 16:04:00 [INFO] Home position for Motor 1 : 2773\n",
      "2025-01-08 16:04:00 [INFO] Home position for Motor 2 : 1890\n",
      "2025-01-08 16:04:00 [INFO] Homing complete. Home position:\n",
      "2025-01-08 16:04:00 [INFO]  Motor 1: 2773, Motor 2: 1890\n",
      "2025-01-08 16:04:00 [INFO] Current position:\n",
      "2025-01-08 16:04:00 [INFO]  Motor 1: 2773, Motor 2: 1890\n",
      "2025-01-08 16:04:00 [DEBUG] Moving Motor 1 to position -1000 with velocity 5\n",
      "2025-01-08 16:04:00 [DEBUG] Moving Motor 2 to position -1000 with velocity 5\n"
     ]
    }
   ],
   "source": [
    "await main()"
   ]
  }
 ],
 "metadata": {
  "kernelspec": {
   "display_name": "kspectest",
   "language": "python",
   "name": "python3"
  },
  "language_info": {
   "codemirror_mode": {
    "name": "ipython",
    "version": 3
   },
   "file_extension": ".py",
   "mimetype": "text/x-python",
   "name": "python",
   "nbconvert_exporter": "python",
   "pygments_lexer": "ipython3",
   "version": "3.11.11"
  }
 },
 "nbformat": 4,
 "nbformat_minor": 2
}
