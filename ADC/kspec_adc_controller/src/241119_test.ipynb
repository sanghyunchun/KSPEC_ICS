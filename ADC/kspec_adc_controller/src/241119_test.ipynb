{
 "cells": [
  {
   "cell_type": "code",
   "execution_count": 1,
   "metadata": {},
   "outputs": [
    {
     "name": "stderr",
     "output_type": "stream",
     "text": [
      "2025-01-09 14:35:54 [INFO] Starting the process to find devices...\n",
      "2025-01-09 14:35:54 [INFO] Selected bus hardware ID: <nanotec_nanolib.Nanolib.BusHardwareId; proxy of <Swig Object of type 'nlc::BusHardwareId *' at 0x000001990B17B330> >\n"
     ]
    },
    {
     "name": "stdout",
     "output_type": "stream",
     "text": [
      "Scan started.\n",
      "............................................................................................................................."
     ]
    },
    {
     "name": "stderr",
     "output_type": "stream",
     "text": [
      "2025-01-09 14:36:21 [INFO] Device 1 added successfully.\n",
      "2025-01-09 14:36:21 [INFO] Device 2 added successfully.\n",
      "2025-01-09 14:36:21 [INFO] Lookup table found: ./etc/ADC_lookup.csv\n",
      "2025-01-09 14:36:21 [INFO] Interpolation function using pchip method created.\n"
     ]
    },
    {
     "name": "stdout",
     "output_type": "stream",
     "text": [
      "\n",
      "Scan finished.\n"
     ]
    }
   ],
   "source": [
    "from adc_actions import AdcActions\n",
    "\n",
    "controller = AdcActions()"
   ]
  },
  {
   "cell_type": "code",
   "execution_count": 2,
   "metadata": {},
   "outputs": [
    {
     "name": "stderr",
     "output_type": "stream",
     "text": [
      "2025-01-09 14:36:25 [INFO] Connecting to devices.\n",
      "2025-01-09 14:36:26 [INFO] Device 1 connected successfully.\n",
      "2025-01-09 14:36:26 [INFO] Device 2 connected successfully.\n",
      "2025-01-09 14:36:26 [INFO] Connection successful.\n"
     ]
    },
    {
     "data": {
      "text/plain": [
       "{'status': 'success', 'message': 'Connected to devices.'}"
      ]
     },
     "execution_count": 2,
     "metadata": {},
     "output_type": "execute_result"
    }
   ],
   "source": [
    "controller.connect()"
   ]
  },
  {
   "cell_type": "code",
   "execution_count": 16,
   "metadata": {},
   "outputs": [
    {
     "name": "stderr",
     "output_type": "stream",
     "text": [
      "2025-01-09 14:43:50 [INFO] Both motors moved successfully.\n"
     ]
    },
    {
     "data": {
      "text/plain": [
       "{'status': 'success',\n",
       " 'message': 'Both motors activated successfully.',\n",
       " 'motor_1': {'initial_position': 49573,\n",
       "  'final_position': 50573,\n",
       "  'position_change': 1000,\n",
       "  'execution_time': 4.38646674156189},\n",
       " 'motor_2': {'initial_position': 114402,\n",
       "  'final_position': 115401,\n",
       "  'position_change': 999,\n",
       "  'execution_time': 4.416792154312134}}"
      ]
     },
     "execution_count": 16,
     "metadata": {},
     "output_type": "execute_result"
    }
   ],
   "source": [
    "await controller.move(0, 1000, 5)"
   ]
  },
  {
   "cell_type": "code",
   "execution_count": 17,
   "metadata": {},
   "outputs": [
    {
     "name": "stderr",
     "output_type": "stream",
     "text": [
      "2025-01-09 14:43:51 [INFO] Starting homing operation.\n",
      "2025-01-09 14:43:51 [INFO] Current positions: Motor 1: 50573, Motor 2: 115402\n",
      "2025-01-09 14:43:51 [INFO] Target home positions: Motor 1: 49573, Motor 2: 114402\n",
      "2025-01-09 14:43:51 [INFO] Moving motors to home positions...\n",
      "2025-01-09 14:44:09 [INFO] Motors moved to home positions successfully.\n",
      "2025-01-09 14:44:09 [INFO] Homing complete. Final positions: Motor 1: 49573, Motor 2: 114404\n",
      "2025-01-09 14:44:09 [INFO] Homing completed successfully.\n"
     ]
    },
    {
     "data": {
      "text/plain": [
       "{'status': 'success', 'message': 'Homing completed successfully.'}"
      ]
     },
     "execution_count": 17,
     "metadata": {},
     "output_type": "execute_result"
    }
   ],
   "source": [
    "await controller.homing()"
   ]
  },
  {
   "cell_type": "code",
   "execution_count": 18,
   "metadata": {},
   "outputs": [
    {
     "name": "stderr",
     "output_type": "stream",
     "text": [
      "2025-01-09 14:45:09 [INFO] Starting zeroing operation.\n",
      "2025-01-09 14:45:09 [INFO] Current positions: Motor 1: 49573, Motor 2: 114402\n",
      "2025-01-09 14:45:09 [INFO] Target home positions: Motor 1: 49573, Motor 2: 114402\n",
      "2025-01-09 14:45:09 [INFO] Both motors are already at home position.\n",
      "2025-01-09 14:45:09 [INFO] Homing complete. Final positions: Motor 1: 49573, Motor 2: 114402\n",
      "2025-01-09 14:45:37 [INFO] Zeroing completed successfully.\n"
     ]
    },
    {
     "data": {
      "text/plain": [
       "{'status': 'success', 'message': 'Zeroing completed successfully.'}"
      ]
     },
     "execution_count": 18,
     "metadata": {},
     "output_type": "execute_result"
    }
   ],
   "source": [
    "await controller.zeroing()"
   ]
  },
  {
   "cell_type": "code",
   "execution_count": 8,
   "metadata": {},
   "outputs": [
    {
     "name": "stderr",
     "output_type": "stream",
     "text": [
      "2025-01-09 14:40:34 [INFO] Retrieving status for motor 0.\n",
      "2025-01-09 14:40:34 [INFO] Device states: {'motor1': {'position_state': 57573, 'connection_state': True}, 'motor2': {'position_state': 116402, 'connection_state': True}}\n",
      "2025-01-09 14:40:34 [INFO] Motor 0 status: {'motor1': {'position_state': 57573, 'connection_state': True}, 'motor2': {'position_state': 116402, 'connection_state': True}}\n"
     ]
    },
    {
     "data": {
      "text/plain": [
       "{'status': 'success',\n",
       " 'message': 'Motor 0 status retrieved.',\n",
       " 'DeviceState': {'motor1': {'position_state': 57573, 'connection_state': True},\n",
       "  'motor2': {'position_state': 116402, 'connection_state': True}}}"
      ]
     },
     "execution_count": 8,
     "metadata": {},
     "output_type": "execute_result"
    }
   ],
   "source": [
    "controller.status()"
   ]
  }
 ],
 "metadata": {
  "kernelspec": {
   "display_name": "kspectest",
   "language": "python",
   "name": "python3"
  },
  "language_info": {
   "codemirror_mode": {
    "name": "ipython",
    "version": 3
   },
   "file_extension": ".py",
   "mimetype": "text/x-python",
   "name": "python",
   "nbconvert_exporter": "python",
   "pygments_lexer": "ipython3",
   "version": "3.11.11"
  }
 },
 "nbformat": 4,
 "nbformat_minor": 2
}
