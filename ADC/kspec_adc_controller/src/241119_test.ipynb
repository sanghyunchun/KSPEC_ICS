{
 "cells": [
  {
   "cell_type": "code",
   "execution_count": 19,
   "metadata": {},
   "outputs": [
    {
     "name": "stderr",
     "output_type": "stream",
     "text": [
      "2025-01-03 13:51:09 [DEBUG] Initializing AdcActions class.\n",
      "2025-01-03 13:51:09 [DEBUG] Initializing AdcController\n",
      "2025-01-03 13:51:09 [INFO] Starting the process to find devices...\n",
      "2025-01-03 13:51:10 [INFO] ID 0: BusHardwareId(VMware Network Adapter VMnet1 (VMware Virtual Ethernet Adapter for VMnet1)) [bus hardware: Network Adapter, protocol: EtherCAT, hardware specifier: {E0D69490-D9CE-48C5-B270-C2F656F0D22C}]\n",
      "2025-01-03 13:51:10 [INFO] ID 1: BusHardwareId(VMware Network Adapter VMnet8 (VMware Virtual Ethernet Adapter for VMnet8)) [bus hardware: Network Adapter, protocol: EtherCAT, hardware specifier: {A2D513A7-5B00-4C3B-B495-FE59C5C2B45F}]\n",
      "2025-01-03 13:51:10 [INFO] ID 2: BusHardwareId(Wi-Fi (Intel(R) Wi-Fi 6E AX211 160MHz)) [bus hardware: Network Adapter, protocol: EtherCAT, hardware specifier: {0B3C66B5-CC23-40D1-997B-E4053F477E82}]\n",
      "2025-01-03 13:51:10 [INFO] ID 3: BusHardwareId(vEthernet (Default Switch) (Hyper-V Virtual Ethernet Adapter)) [bus hardware: Network Adapter, protocol: EtherCAT, hardware specifier: {9A30F842-E465-4EBA-822D-C31F427B0641}]\n",
      "2025-01-03 13:51:10 [INFO] ID 4: BusHardwareId(Serial Port (COM3)) [bus hardware: Serial Port, protocol: MODBUS RTU, hardware specifier: COM3]\n",
      "2025-01-03 13:51:10 [INFO] ID 5: BusHardwareId(USB Bus) [bus hardware: USB BUS, protocol: MODBUS VCP, hardware specifier: UsbRoot0, extra hardware specifier: UsbBusVcp]\n",
      "2025-01-03 13:51:10 [INFO] ID 6: BusHardwareId(VMware Network Adapter VMnet1 (VMware Virtual Ethernet Adapter for VMnet1)) [bus hardware: Network Adapter, protocol: MODBUS TCP, hardware specifier: {E0D69490-D9CE-48C5-B270-C2F656F0D22C}]\n",
      "2025-01-03 13:51:10 [INFO] ID 7: BusHardwareId(VMware Network Adapter VMnet8 (VMware Virtual Ethernet Adapter for VMnet8)) [bus hardware: Network Adapter, protocol: MODBUS TCP, hardware specifier: {A2D513A7-5B00-4C3B-B495-FE59C5C2B45F}]\n",
      "2025-01-03 13:51:10 [INFO] ID 8: BusHardwareId(Wi-Fi (Intel(R) Wi-Fi 6E AX211 160MHz)) [bus hardware: Network Adapter, protocol: MODBUS TCP, hardware specifier: {0B3C66B5-CC23-40D1-997B-E4053F477E82}]\n",
      "2025-01-03 13:51:10 [INFO] ID 9: BusHardwareId(vEthernet (Default Switch) (Hyper-V Virtual Ethernet Adapter)) [bus hardware: Network Adapter, protocol: MODBUS TCP, hardware specifier: {9A30F842-E465-4EBA-822D-C31F427B0641}]\n",
      "2025-01-03 13:51:10 [INFO] ID 10: BusHardwareId(VMware Network Adapter VMnet1 (VMware Virtual Ethernet Adapter for VMnet1)) [bus hardware: Network Adapter, protocol: RESTful API, hardware specifier: {E0D69490-D9CE-48C5-B270-C2F656F0D22C}]\n",
      "2025-01-03 13:51:10 [INFO] ID 11: BusHardwareId(VMware Network Adapter VMnet8 (VMware Virtual Ethernet Adapter for VMnet8)) [bus hardware: Network Adapter, protocol: RESTful API, hardware specifier: {A2D513A7-5B00-4C3B-B495-FE59C5C2B45F}]\n",
      "2025-01-03 13:51:10 [INFO] ID 12: BusHardwareId(Wi-Fi (Intel(R) Wi-Fi 6E AX211 160MHz)) [bus hardware: Network Adapter, protocol: RESTful API, hardware specifier: {0B3C66B5-CC23-40D1-997B-E4053F477E82}]\n",
      "2025-01-03 13:51:10 [INFO] ID 13: BusHardwareId(vEthernet (Default Switch) (Hyper-V Virtual Ethernet Adapter)) [bus hardware: Network Adapter, protocol: RESTful API, hardware specifier: {9A30F842-E465-4EBA-822D-C31F427B0641}]\n",
      "2025-01-03 13:51:10 [INFO] ID 14: BusHardwareId(USB Bus) [bus hardware: USB BUS, protocol: MSC, hardware specifier: UsbRoot0, extra hardware specifier: UsbBusMsc]\n",
      "2025-01-03 13:51:10 [INFO] Selected bus hardware ID: <nanotec_nanolib.Nanolib.BusHardwareId; proxy of <Swig Object of type 'nlc::BusHardwareId *' at 0x000001B7DFEC8FC0> >\n"
     ]
    },
    {
     "name": "stdout",
     "output_type": "stream",
     "text": [
      "Scan started.\n",
      "............................................................................................................................."
     ]
    },
    {
     "name": "stderr",
     "output_type": "stream",
     "text": [
      "2025-01-03 13:51:37 [INFO] Device 1 added successfully.\n",
      "2025-01-03 13:51:37 [INFO] Device 2 added successfully.\n",
      "2025-01-03 13:51:37 [INFO] Lookup table found: ./etc/ADC_lookup.csv\n",
      "2025-01-03 13:51:37 [INFO] Zenith angle-ADC angle interpolation function created\n"
     ]
    },
    {
     "name": "stdout",
     "output_type": "stream",
     "text": [
      "\n",
      "Scan finished.\n"
     ]
    }
   ],
   "source": [
    "from adc_actions import AdcActions\n",
    "\n",
    "controller = AdcActions()"
   ]
  },
  {
   "cell_type": "code",
   "execution_count": 20,
   "metadata": {},
   "outputs": [
    {
     "name": "stderr",
     "output_type": "stream",
     "text": [
      "2025-01-03 13:51:41 [INFO] Connecting to devices.\n",
      "2025-01-03 13:51:41 [INFO] Device 1 connected successfully.\n",
      "2025-01-03 13:51:41 [INFO] Device 2 connected successfully.\n",
      "2025-01-03 13:51:41 [INFO] Connection successful.\n"
     ]
    },
    {
     "data": {
      "text/plain": [
       "{'status': 'success', 'message': 'Connected to devices.'}"
      ]
     },
     "execution_count": 20,
     "metadata": {},
     "output_type": "execute_result"
    }
   ],
   "source": [
    "controller.connect()"
   ]
  },
  {
   "cell_type": "code",
   "execution_count": 21,
   "metadata": {},
   "outputs": [
    {
     "name": "stderr",
     "output_type": "stream",
     "text": [
      "2025-01-03 13:51:44 [INFO] Retrieving status for motor 0.\n",
      "2025-01-03 13:51:44 [INFO] Device states: {'motor1': {'position_state': 1374, 'connection_state': True}, 'motor2': {'position_state': 1374, 'connection_state': True}}\n",
      "2025-01-03 13:51:44 [INFO] Motor 0 status: {'motor1': {'position_state': 1374, 'connection_state': True}, 'motor2': {'position_state': 1374, 'connection_state': True}}\n"
     ]
    },
    {
     "data": {
      "text/plain": [
       "{'status': 'success',\n",
       " 'message': 'Motor 0 status retrieved.',\n",
       " 'DeviceState': {'motor1': {'position_state': 1374, 'connection_state': True},\n",
       "  'motor2': {'position_state': 1374, 'connection_state': True}}}"
      ]
     },
     "execution_count": 21,
     "metadata": {},
     "output_type": "execute_result"
    }
   ],
   "source": [
    "controller.status()"
   ]
  },
  {
   "cell_type": "code",
   "execution_count": 25,
   "metadata": {},
   "outputs": [
    {
     "name": "stderr",
     "output_type": "stream",
     "text": [
      "2025-01-03 13:52:30 [INFO] Motors activated successfully.\n"
     ]
    }
   ],
   "source": [
    "# 비동기 함수 호출\n",
    "zenith_angle = 450  # 0-60\n",
    "vel = 2\n",
    "response = await controller.activate(zenith_angle, vel)"
   ]
  },
  {
   "cell_type": "code",
   "execution_count": null,
   "metadata": {},
   "outputs": [],
   "source": [
    "await controller.homing()"
   ]
  },
  {
   "cell_type": "code",
   "execution_count": 26,
   "metadata": {},
   "outputs": [
    {
     "name": "stderr",
     "output_type": "stream",
     "text": [
      "2025-01-03 13:52:59 [INFO] Powering off and disconnecting from devices.\n",
      "2025-01-03 13:52:59 [INFO] Device 1 disconnected successfully.\n",
      "2025-01-03 13:52:59 [INFO] Device 2 disconnected successfully.\n",
      "2025-01-03 13:52:59 [DEBUG] Closing all devices...\n",
      "2025-01-03 13:52:59 [INFO] Bus hardware closed successfully.\n",
      "2025-01-03 13:52:59 [INFO] Power off successful.\n"
     ]
    },
    {
     "data": {
      "text/plain": [
       "{'status': 'success', 'message': 'Power off and devices disconnected.'}"
      ]
     },
     "execution_count": 26,
     "metadata": {},
     "output_type": "execute_result"
    }
   ],
   "source": [
    "controller.power_off()"
   ]
  },
  {
   "cell_type": "code",
   "execution_count": null,
   "metadata": {},
   "outputs": [],
   "source": []
  }
 ],
 "metadata": {
  "kernelspec": {
   "display_name": "kspectest",
   "language": "python",
   "name": "python3"
  },
  "language_info": {
   "codemirror_mode": {
    "name": "ipython",
    "version": 3
   },
   "file_extension": ".py",
   "mimetype": "text/x-python",
   "name": "python",
   "nbconvert_exporter": "python",
   "pygments_lexer": "ipython3",
   "version": "3.12.7"
  }
 },
 "nbformat": 4,
 "nbformat_minor": 2
}
