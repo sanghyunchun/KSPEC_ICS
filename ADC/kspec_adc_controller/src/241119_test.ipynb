{
 "cells": [
  {
   "cell_type": "code",
   "execution_count": 1,
   "metadata": {},
   "outputs": [
    {
     "name": "stderr",
     "output_type": "stream",
     "text": [
      "2025-01-10 15:25:01 [INFO] Starting the process to find devices...\n",
      "2025-01-10 15:25:02 [INFO] Found bus hardware ID 0: BusHardwareId(���� ���� ����* 11 (TAP-Windows Adapter V9 - SecuwaySSLU)) [bus hardware: Network Adapter, protocol: EtherCAT, hardware specifier: {6F66967D-2C7A-453E-9BE9-B3C3C041A83C}]\n",
      "2025-01-10 15:25:02 [INFO] Found bus hardware ID 1: BusHardwareId(�̴��� 2 (Aquantia AQtion USB to 5GbE Adapter #2)) [bus hardware: Network Adapter, protocol: EtherCAT, hardware specifier: {41AC0FFD-32AB-4C00-A74A-8E1FCE8722DE}]\n",
      "2025-01-10 15:25:02 [INFO] Found bus hardware ID 2: BusHardwareId(Wi-Fi (Intel(R) Wi-Fi 6E AX211 160MHz)) [bus hardware: Network Adapter, protocol: EtherCAT, hardware specifier: {85B9F7EF-9B8F-408F-ABBC-374426446F5C}]\n",
      "2025-01-10 15:25:02 [INFO] Found bus hardware ID 3: BusHardwareId(Serial Port (COM3)) [bus hardware: Serial Port, protocol: MODBUS RTU, hardware specifier: COM3]\n",
      "2025-01-10 15:25:02 [INFO] Found bus hardware ID 4: BusHardwareId(Serial Port (COM4)) [bus hardware: Serial Port, protocol: MODBUS RTU, hardware specifier: COM4]\n",
      "2025-01-10 15:25:02 [INFO] Found bus hardware ID 5: BusHardwareId(USB Bus) [bus hardware: USB BUS, protocol: MODBUS VCP, hardware specifier: UsbRoot0, extra hardware specifier: UsbBusVcp]\n",
      "2025-01-10 15:25:02 [INFO] Found bus hardware ID 6: BusHardwareId(���� ���� ����* 11 (TAP-Windows Adapter V9 - SecuwaySSLU)) [bus hardware: Network Adapter, protocol: MODBUS TCP, hardware specifier: {6F66967D-2C7A-453E-9BE9-B3C3C041A83C}]\n",
      "2025-01-10 15:25:02 [INFO] Found bus hardware ID 7: BusHardwareId(�̴��� 2 (Aquantia AQtion USB to 5GbE Adapter #2)) [bus hardware: Network Adapter, protocol: MODBUS TCP, hardware specifier: {41AC0FFD-32AB-4C00-A74A-8E1FCE8722DE}]\n",
      "2025-01-10 15:25:02 [INFO] Found bus hardware ID 8: BusHardwareId(Wi-Fi (Intel(R) Wi-Fi 6E AX211 160MHz)) [bus hardware: Network Adapter, protocol: MODBUS TCP, hardware specifier: {85B9F7EF-9B8F-408F-ABBC-374426446F5C}]\n",
      "2025-01-10 15:25:02 [INFO] Found bus hardware ID 9: BusHardwareId(���� ���� ����* 11 (TAP-Windows Adapter V9 - SecuwaySSLU)) [bus hardware: Network Adapter, protocol: RESTful API, hardware specifier: {6F66967D-2C7A-453E-9BE9-B3C3C041A83C}]\n",
      "2025-01-10 15:25:02 [INFO] Found bus hardware ID 10: BusHardwareId(�̴��� 2 (Aquantia AQtion USB to 5GbE Adapter #2)) [bus hardware: Network Adapter, protocol: RESTful API, hardware specifier: {41AC0FFD-32AB-4C00-A74A-8E1FCE8722DE}]\n",
      "2025-01-10 15:25:02 [INFO] Found bus hardware ID 11: BusHardwareId(Wi-Fi (Intel(R) Wi-Fi 6E AX211 160MHz)) [bus hardware: Network Adapter, protocol: RESTful API, hardware specifier: {85B9F7EF-9B8F-408F-ABBC-374426446F5C}]\n",
      "2025-01-10 15:25:02 [INFO] Found bus hardware ID 12: BusHardwareId(USB Bus) [bus hardware: USB BUS, protocol: MSC, hardware specifier: UsbRoot0, extra hardware specifier: UsbBusMsc]\n",
      "2025-01-10 15:25:02 [INFO] Selected bus hardware ID: <nanotec_nanolib.Nanolib.BusHardwareId; proxy of <Swig Object of type 'nlc::BusHardwareId *' at 0x0000023FF3EFB360> >\n"
     ]
    },
    {
     "name": "stdout",
     "output_type": "stream",
     "text": [
      "Scan started.\n",
      "............................................................................................................................."
     ]
    },
    {
     "name": "stderr",
     "output_type": "stream",
     "text": [
      "2025-01-10 15:25:29 [INFO] Device 1 added successfully.\n",
      "2025-01-10 15:25:29 [INFO] Device 2 added successfully.\n",
      "2025-01-10 15:25:29 [INFO] Lookup table found: ./etc/ADC_lookup.csv\n",
      "2025-01-10 15:25:29 [INFO] Interpolation function using pchip method created.\n"
     ]
    },
    {
     "name": "stdout",
     "output_type": "stream",
     "text": [
      "\n",
      "Scan finished.\n"
     ]
    }
   ],
   "source": [
    "from adc_actions import AdcActions\n",
    "\n",
    "controller = AdcActions()"
   ]
  },
  {
   "cell_type": "code",
   "execution_count": 2,
   "metadata": {},
   "outputs": [
    {
     "name": "stderr",
     "output_type": "stream",
     "text": [
      "2025-01-10 15:25:32 [INFO] Connecting to devices.\n",
      "2025-01-10 15:25:32 [INFO] Device 1 connected successfully.\n",
      "2025-01-10 15:25:32 [INFO] Device 2 connected successfully.\n",
      "2025-01-10 15:25:32 [INFO] Connection successful.\n"
     ]
    },
    {
     "data": {
      "text/plain": [
       "{'status': 'success', 'message': 'Connected to devices.'}"
      ]
     },
     "execution_count": 2,
     "metadata": {},
     "output_type": "execute_result"
    }
   ],
   "source": [
    "controller.connect()"
   ]
  },
  {
   "cell_type": "code",
   "execution_count": 56,
   "metadata": {},
   "outputs": [
    {
     "name": "stderr",
     "output_type": "stream",
     "text": [
      "2025-01-10 16:17:39 [INFO] Retrieving status for motor 0.\n",
      "2025-01-10 16:17:39 [INFO] Device states: {'motor1': {'position_state': 82252, 'connection_state': True}, 'motor2': {'position_state': 75311, 'connection_state': True}}\n",
      "2025-01-10 16:17:39 [INFO] Motor 0 status: {'motor1': {'position_state': 82252, 'connection_state': True}, 'motor2': {'position_state': 75311, 'connection_state': True}}\n"
     ]
    },
    {
     "data": {
      "text/plain": [
       "{'status': 'success',\n",
       " 'message': 'Motor 0 status retrieved.',\n",
       " 'DeviceState': {'motor1': {'position_state': 82252, 'connection_state': True},\n",
       "  'motor2': {'position_state': 75311, 'connection_state': True}}}"
      ]
     },
     "execution_count": 56,
     "metadata": {},
     "output_type": "execute_result"
    }
   ],
   "source": [
    "controller.status()"
   ]
  },
  {
   "cell_type": "code",
   "execution_count": 55,
   "metadata": {},
   "outputs": [
    {
     "name": "stderr",
     "output_type": "stream",
     "text": [
      "2025-01-10 16:17:26 [INFO] Motor 2 moved successfully to position 450.\n"
     ]
    },
    {
     "data": {
      "text/plain": [
       "{'status': 'success',\n",
       " 'message': 'Motor 2 activated successfully.',\n",
       " 'result': {'initial_position': 74861,\n",
       "  'final_position': 75312,\n",
       "  'position_change': 451,\n",
       "  'execution_time': 8.342172384262085}}"
      ]
     },
     "execution_count": 55,
     "metadata": {},
     "output_type": "execute_result"
    }
   ],
   "source": [
    "# motor 2 -20 -> 900 counts\n",
    "await controller.move(2, 450, 1)\n",
    "# 이제 450씩 움직이면 댐댐"
   ]
  },
  {
   "cell_type": "code",
   "execution_count": 62,
   "metadata": {},
   "outputs": [
    {
     "name": "stderr",
     "output_type": "stream",
     "text": [
      "2025-01-10 16:21:35 [INFO] Motor 1 moved successfully to position -450.\n"
     ]
    },
    {
     "data": {
      "text/plain": [
       "{'status': 'success',\n",
       " 'message': 'Motor 1 activated successfully.',\n",
       " 'result': {'initial_position': 80002,\n",
       "  'final_position': 79552,\n",
       "  'position_change': -450,\n",
       "  'execution_time': 8.327613592147827}}"
      ]
     },
     "execution_count": 62,
     "metadata": {},
     "output_type": "execute_result"
    }
   ],
   "source": [
    "await controller.move(1, -450, 1)"
   ]
  },
  {
   "cell_type": "code",
   "execution_count": 16,
   "metadata": {},
   "outputs": [
    {
     "name": "stderr",
     "output_type": "stream",
     "text": [
      "2025-01-10 15:45:48 [INFO] Starting zeroing operation.\n",
      "2025-01-10 15:45:49 [INFO] Current positions: Motor 1: 79552, Motor 2: 74411\n",
      "2025-01-10 15:45:49 [INFO] Target home positions: Motor 1: 73402, Motor 2: 72411\n",
      "2025-01-10 15:45:49 [INFO] Moving motors to home positions...\n",
      "2025-01-10 15:47:32 [INFO] Motors moved to home positions successfully.\n",
      "2025-01-10 15:47:32 [INFO] Homing complete. Final positions: Motor 1: 73402, Motor 2: 72411\n",
      "2025-01-10 15:47:58 [INFO] Zeroing completed successfully.\n"
     ]
    },
    {
     "data": {
      "text/plain": [
       "{'status': 'success', 'message': 'Zeroing completed successfully.'}"
      ]
     },
     "execution_count": 16,
     "metadata": {},
     "output_type": "execute_result"
    }
   ],
   "source": [
    "await controller.zeroing()"
   ]
  }
 ],
 "metadata": {
  "kernelspec": {
   "display_name": "kspectest",
   "language": "python",
   "name": "python3"
  },
  "language_info": {
   "codemirror_mode": {
    "name": "ipython",
    "version": 3
   },
   "file_extension": ".py",
   "mimetype": "text/x-python",
   "name": "python",
   "nbconvert_exporter": "python",
   "pygments_lexer": "ipython3",
   "version": "3.11.11"
  }
 },
 "nbformat": 4,
 "nbformat_minor": 2
}
