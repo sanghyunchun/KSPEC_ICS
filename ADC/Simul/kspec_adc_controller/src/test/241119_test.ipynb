{
 "cells": [
  {
   "cell_type": "code",
   "execution_count": 1,
   "metadata": {},
   "outputs": [
    {
     "name": "stderr",
     "output_type": "stream",
     "text": [
      "2025-01-13 18:16:53 [INFO] Starting the process to find devices...\n",
      "2025-01-13 18:16:53 [INFO] Found bus hardware ID 0: BusHardwareId(���� ���� ����* 11 (TAP-Windows Adapter V9 - SecuwaySSLU)) [bus hardware: Network Adapter, protocol: EtherCAT, hardware specifier: {6F66967D-2C7A-453E-9BE9-B3C3C041A83C}]\n",
      "2025-01-13 18:16:53 [INFO] Found bus hardware ID 1: BusHardwareId(�̴��� 2 (Aquantia AQtion USB to 5GbE Adapter #2)) [bus hardware: Network Adapter, protocol: EtherCAT, hardware specifier: {41AC0FFD-32AB-4C00-A74A-8E1FCE8722DE}]\n",
      "2025-01-13 18:16:53 [INFO] Found bus hardware ID 2: BusHardwareId(Wi-Fi (Intel(R) Wi-Fi 6E AX211 160MHz)) [bus hardware: Network Adapter, protocol: EtherCAT, hardware specifier: {85B9F7EF-9B8F-408F-ABBC-374426446F5C}]\n",
      "2025-01-13 18:16:53 [INFO] Found bus hardware ID 3: BusHardwareId(Serial Port (COM3)) [bus hardware: Serial Port, protocol: MODBUS RTU, hardware specifier: COM3]\n",
      "2025-01-13 18:16:53 [INFO] Found bus hardware ID 4: BusHardwareId(Serial Port (COM4)) [bus hardware: Serial Port, protocol: MODBUS RTU, hardware specifier: COM4]\n",
      "2025-01-13 18:16:53 [INFO] Found bus hardware ID 5: BusHardwareId(USB Bus) [bus hardware: USB BUS, protocol: MODBUS VCP, hardware specifier: UsbRoot0, extra hardware specifier: UsbBusVcp]\n",
      "2025-01-13 18:16:53 [INFO] Found bus hardware ID 6: BusHardwareId(���� ���� ����* 11 (TAP-Windows Adapter V9 - SecuwaySSLU)) [bus hardware: Network Adapter, protocol: MODBUS TCP, hardware specifier: {6F66967D-2C7A-453E-9BE9-B3C3C041A83C}]\n",
      "2025-01-13 18:16:53 [INFO] Found bus hardware ID 7: BusHardwareId(�̴��� 2 (Aquantia AQtion USB to 5GbE Adapter #2)) [bus hardware: Network Adapter, protocol: MODBUS TCP, hardware specifier: {41AC0FFD-32AB-4C00-A74A-8E1FCE8722DE}]\n",
      "2025-01-13 18:16:53 [INFO] Found bus hardware ID 8: BusHardwareId(Wi-Fi (Intel(R) Wi-Fi 6E AX211 160MHz)) [bus hardware: Network Adapter, protocol: MODBUS TCP, hardware specifier: {85B9F7EF-9B8F-408F-ABBC-374426446F5C}]\n",
      "2025-01-13 18:16:53 [INFO] Found bus hardware ID 9: BusHardwareId(���� ���� ����* 11 (TAP-Windows Adapter V9 - SecuwaySSLU)) [bus hardware: Network Adapter, protocol: RESTful API, hardware specifier: {6F66967D-2C7A-453E-9BE9-B3C3C041A83C}]\n",
      "2025-01-13 18:16:53 [INFO] Found bus hardware ID 10: BusHardwareId(�̴��� 2 (Aquantia AQtion USB to 5GbE Adapter #2)) [bus hardware: Network Adapter, protocol: RESTful API, hardware specifier: {41AC0FFD-32AB-4C00-A74A-8E1FCE8722DE}]\n",
      "2025-01-13 18:16:53 [INFO] Found bus hardware ID 11: BusHardwareId(Wi-Fi (Intel(R) Wi-Fi 6E AX211 160MHz)) [bus hardware: Network Adapter, protocol: RESTful API, hardware specifier: {85B9F7EF-9B8F-408F-ABBC-374426446F5C}]\n",
      "2025-01-13 18:16:53 [INFO] Found bus hardware ID 12: BusHardwareId(USB Bus) [bus hardware: USB BUS, protocol: MSC, hardware specifier: UsbRoot0, extra hardware specifier: UsbBusMsc]\n",
      "2025-01-13 18:16:53 [INFO] Selected bus hardware ID: <nanotec_nanolib.Nanolib.BusHardwareId; proxy of <Swig Object of type 'nlc::BusHardwareId *' at 0x000001EE7F56B4E0> >\n"
     ]
    },
    {
     "name": "stdout",
     "output_type": "stream",
     "text": [
      "Scan started.\n",
      "............................................................................................................................."
     ]
    },
    {
     "name": "stderr",
     "output_type": "stream",
     "text": [
      "2025-01-13 18:17:21 [INFO] Device 1 added successfully.\n",
      "2025-01-13 18:17:21 [INFO] Device 2 added successfully.\n",
      "2025-01-13 18:17:21 [INFO] Lookup table found: ./etc/ADC_lookup.csv\n",
      "2025-01-13 18:17:21 [INFO] Interpolation function using pchip method created.\n"
     ]
    },
    {
     "name": "stdout",
     "output_type": "stream",
     "text": [
      "\n",
      "Scan finished.\n"
     ]
    }
   ],
   "source": [
    "from adc_actions import AdcActions\n",
    "\n",
    "controller = AdcActions()"
   ]
  },
  {
   "cell_type": "code",
   "execution_count": 2,
   "metadata": {},
   "outputs": [
    {
     "name": "stderr",
     "output_type": "stream",
     "text": [
      "2025-01-13 18:17:51 [INFO] Connecting to devices.\n",
      "2025-01-13 18:17:51 [INFO] Device 1 connected successfully.\n",
      "2025-01-13 18:17:51 [INFO] Device 2 connected successfully.\n",
      "2025-01-13 18:17:51 [INFO] Connection successful.\n"
     ]
    },
    {
     "data": {
      "text/plain": [
       "{'status': 'success', 'message': 'Connected to devices.'}"
      ]
     },
     "execution_count": 2,
     "metadata": {},
     "output_type": "execute_result"
    }
   ],
   "source": [
    "controller.connect()"
   ]
  },
  {
   "cell_type": "code",
   "execution_count": 8,
   "metadata": {},
   "outputs": [
    {
     "name": "stderr",
     "output_type": "stream",
     "text": [
      "2025-01-13 17:34:14 [INFO] Retrieving status for motor 0.\n",
      "2025-01-13 17:34:14 [INFO] Device states: {'motor1': {'position_state': 8046, 'connection_state': True}, 'motor2': {'position_state': 4294961696, 'connection_state': True}}\n",
      "2025-01-13 17:34:14 [INFO] Motor 0 status: {'motor1': {'position_state': 8046, 'connection_state': True}, 'motor2': {'position_state': 4294961696, 'connection_state': True}}\n"
     ]
    },
    {
     "data": {
      "text/plain": [
       "{'status': 'success',\n",
       " 'message': 'Motor 0 status retrieved.',\n",
       " 'DeviceState': {'motor1': {'position_state': 8046, 'connection_state': True},\n",
       "  'motor2': {'position_state': 4294961696, 'connection_state': True}}}"
      ]
     },
     "execution_count": 8,
     "metadata": {},
     "output_type": "execute_result"
    }
   ],
   "source": [
    "controller.status()"
   ]
  },
  {
   "cell_type": "code",
   "execution_count": null,
   "metadata": {},
   "outputs": [],
   "source": [
    "await controller.stop(1)\n",
    "await controller.stop(2)"
   ]
  },
  {
   "cell_type": "code",
   "execution_count": 6,
   "metadata": {},
   "outputs": [
    {
     "name": "stderr",
     "output_type": "stream",
     "text": [
      "2025-01-13 17:33:24 [INFO] Activating motors with zenith angle 60.\n",
      "2025-01-13 17:33:32 [INFO] Motors activated successfully.\n"
     ]
    },
    {
     "data": {
      "text/plain": [
       "{'status': 'success',\n",
       " 'message': 'Motors activated successfully.',\n",
       " 'motor_1': {'initial_position': 8046,\n",
       "  'final_position': 3997,\n",
       "  'position_change': -4049,\n",
       "  'execution_time': 7.404067277908325},\n",
       " 'motor_2': {'initial_position': 2498,\n",
       "  'final_position': 4294965744,\n",
       "  'position_change': 4294963246,\n",
       "  'execution_time': 7.307693004608154}}"
      ]
     },
     "execution_count": 6,
     "metadata": {},
     "output_type": "execute_result"
    }
   ],
   "source": [
    "await controller.activate(60, 10)"
   ]
  },
  {
   "cell_type": "code",
   "execution_count": 11,
   "metadata": {},
   "outputs": [
    {
     "name": "stderr",
     "output_type": "stream",
     "text": [
      "2025-01-13 18:20:48 [INFO] Starting homing operation.\n",
      "2025-01-13 18:20:48 [INFO] Current positions: Motor 1: 8046, Motor 2: 2497\n",
      "2025-01-13 18:20:48 [INFO] Target home positions: Motor 1: 485, Motor 2: 497\n",
      "2025-01-13 18:20:48 [INFO] Moving motors to home positions...\n",
      "2025-01-13 18:21:01 [INFO] Motors moved to home positions successfully.\n",
      "2025-01-13 18:21:01 [INFO] Homing complete. Final positions: Motor 1: 485, Motor 2: 497\n",
      "2025-01-13 18:21:01 [INFO] Homing completed successfully.\n"
     ]
    },
    {
     "data": {
      "text/plain": [
       "{'status': 'success', 'message': 'Homing completed successfully.'}"
      ]
     },
     "execution_count": 11,
     "metadata": {},
     "output_type": "execute_result"
    }
   ],
   "source": [
    "await controller.homing(10)"
   ]
  },
  {
   "cell_type": "code",
   "execution_count": 13,
   "metadata": {},
   "outputs": [
    {
     "name": "stderr",
     "output_type": "stream",
     "text": [
      "2025-01-13 18:21:43 [INFO] Starting zeroing operation.\n",
      "2025-01-13 18:21:43 [INFO] Zeroing process initiated...\n",
      "2025-01-13 18:21:43 [INFO] Current positions: Motor 1: 4294966959, Motor 2: 4294966971\n",
      "2025-01-13 18:21:43 [INFO] Target Zero positions: Motor 1: 8046, Motor 2: 2497\n",
      "2025-01-13 18:21:43 [INFO] Moving motors to Zero positions...\n",
      "2025-01-13 18:21:59 [INFO] Motors moved to Zero positions successfully.\n",
      "2025-01-13 18:21:59 [INFO] Zeroing completed successfully.\n"
     ]
    },
    {
     "data": {
      "text/plain": [
       "{'status': 'success', 'message': 'Zeroing completed successfully.'}"
      ]
     },
     "execution_count": 13,
     "metadata": {},
     "output_type": "execute_result"
    }
   ],
   "source": [
    "await controller.zeroing(10)"
   ]
  },
  {
   "cell_type": "code",
   "execution_count": 12,
   "metadata": {},
   "outputs": [
    {
     "name": "stderr",
     "output_type": "stream",
     "text": [
      "2025-01-13 18:21:12 [INFO] Activating motors with zenith angle 20.\n",
      "2025-01-13 18:21:14 [INFO] Motors activated successfully.\n"
     ]
    },
    {
     "data": {
      "text/plain": [
       "{'status': 'success',\n",
       " 'message': 'Motors activated successfully.',\n",
       " 'motor_1': {'initial_position': 485,\n",
       "  'final_position': 4294966959,\n",
       "  'position_change': 4294966474,\n",
       "  'execution_time': 2.313518524169922},\n",
       " 'motor_2': {'initial_position': 497,\n",
       "  'final_position': 4294966972,\n",
       "  'position_change': 4294966475,\n",
       "  'execution_time': 2.345017671585083}}"
      ]
     },
     "execution_count": 12,
     "metadata": {},
     "output_type": "execute_result"
    }
   ],
   "source": [
    "await controller.activate(20, 10)"
   ]
  },
  {
   "cell_type": "code",
   "execution_count": 8,
   "metadata": {},
   "outputs": [
    {
     "name": "stderr",
     "output_type": "stream",
     "text": [
      "2025-01-13 18:19:50 [INFO] Starting parking operation.\n",
      "2025-01-13 18:19:50 [INFO] Parking process initiated...\n",
      "2025-01-13 18:19:51 [INFO] Current positions: Motor 1: 7224, Motor 2: 1675\n",
      "2025-01-13 18:19:51 [INFO] Target parking positions relative to home: Motor 1: -15, Motor 2: -3\n",
      "2025-01-13 18:19:51 [INFO] Moving motors to parking positions...\n",
      "2025-01-13 18:20:04 [INFO] Motors moved to parking positions successfully.\n",
      "2025-01-13 18:20:04 [INFO] Parking completed successfully.\n"
     ]
    },
    {
     "data": {
      "text/plain": [
       "{'status': 'success', 'message': 'Parking completed successfully.'}"
      ]
     },
     "execution_count": 8,
     "metadata": {},
     "output_type": "execute_result"
    }
   ],
   "source": [
    "await controller.parking(10)"
   ]
  },
  {
   "cell_type": "code",
   "execution_count": 31,
   "metadata": {},
   "outputs": [
    {
     "name": "stderr",
     "output_type": "stream",
     "text": [
      "2025-01-13 17:11:09 [INFO] Motor 2 moved successfully to position -4000.\n"
     ]
    },
    {
     "data": {
      "text/plain": [
       "{'status': 'success',\n",
       " 'message': 'Motor 2 activated successfully.',\n",
       " 'result': {'initial_position': 3502,\n",
       "  'final_position': 4294966798,\n",
       "  'position_change': 4294963296,\n",
       "  'execution_time': 7.263240575790405}}"
      ]
     },
     "execution_count": 31,
     "metadata": {},
     "output_type": "execute_result"
    }
   ],
   "source": [
    "# motor 2 -20 -> 900 counts\n",
    "await controller.move(2, -4000, 10)\n",
    "# 이제 450씩 움직이면 댐"
   ]
  },
  {
   "cell_type": "code",
   "execution_count": 5,
   "metadata": {},
   "outputs": [
    {
     "name": "stderr",
     "output_type": "stream",
     "text": [
      "2025-01-13 18:10:58 [INFO] Disconnecting from devices.\n",
      "2025-01-13 18:10:58 [INFO] Device 1 disconnected successfully.\n",
      "2025-01-13 18:10:58 [INFO] Device 2 disconnected successfully.\n",
      "2025-01-13 18:10:58 [INFO] Disconnection successful.\n",
      "2025-01-13 18:10:58 [INFO] Powering off and disconnecting from devices.\n",
      "2025-01-13 18:10:58 [INFO] Device 1 was not connected.\n",
      "2025-01-13 18:10:58 [INFO] Device 2 was not connected.\n",
      "2025-01-13 18:10:58 [INFO] Bus hardware closed successfully.\n",
      "2025-01-13 18:10:58 [INFO] Power off successful.\n"
     ]
    },
    {
     "data": {
      "text/plain": [
       "{'status': 'success', 'message': 'Power off and devices disconnected.'}"
      ]
     },
     "execution_count": 5,
     "metadata": {},
     "output_type": "execute_result"
    }
   ],
   "source": [
    "controller.disconnect()\n",
    "controller.power_off()"
   ]
  }
 ],
 "metadata": {
  "kernelspec": {
   "display_name": "kspectest",
   "language": "python",
   "name": "python3"
  },
  "language_info": {
   "codemirror_mode": {
    "name": "ipython",
    "version": 3
   },
   "file_extension": ".py",
   "mimetype": "text/x-python",
   "name": "python",
   "nbconvert_exporter": "python",
   "pygments_lexer": "ipython3",
   "version": "3.11.11"
  }
 },
 "nbformat": 4,
 "nbformat_minor": 2
}
