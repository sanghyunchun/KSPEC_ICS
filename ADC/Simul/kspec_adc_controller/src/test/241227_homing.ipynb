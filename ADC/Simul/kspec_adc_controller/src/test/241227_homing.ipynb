{
 "cells": [
  {
   "cell_type": "code",
   "execution_count": 1,
   "metadata": {},
   "outputs": [
    {
     "name": "stderr",
     "output_type": "stream",
     "text": [
      "2025-01-08 14:03:26 [DEBUG] Initializing AdcController\n"
     ]
    }
   ],
   "source": [
    "from adc_controller import AdcController\n",
    "from adc_logger import AdcLogger\n",
    "\n",
    "logger = AdcLogger()\n",
    "controller = AdcController(logger)"
   ]
  },
  {
   "cell_type": "code",
   "execution_count": 2,
   "metadata": {},
   "outputs": [
    {
     "name": "stderr",
     "output_type": "stream",
     "text": [
      "2025-01-08 14:03:26 [INFO] Starting the process to find devices...\n",
      "2025-01-08 14:03:27 [INFO] ID 0: BusHardwareId(���� ���� ����* 11 (TAP-Windows Adapter V9 - SecuwaySSLU)) [bus hardware: Network Adapter, protocol: EtherCAT, hardware specifier: {6F66967D-2C7A-453E-9BE9-B3C3C041A83C}]\n",
      "2025-01-08 14:03:27 [INFO] ID 1: BusHardwareId(Wi-Fi (Intel(R) Wi-Fi 6E AX211 160MHz)) [bus hardware: Network Adapter, protocol: EtherCAT, hardware specifier: {85B9F7EF-9B8F-408F-ABBC-374426446F5C}]\n",
      "2025-01-08 14:03:27 [INFO] ID 2: BusHardwareId(Serial Port (COM3)) [bus hardware: Serial Port, protocol: MODBUS RTU, hardware specifier: COM3]\n",
      "2025-01-08 14:03:27 [INFO] ID 3: BusHardwareId(Serial Port (COM4)) [bus hardware: Serial Port, protocol: MODBUS RTU, hardware specifier: COM4]\n",
      "2025-01-08 14:03:27 [INFO] ID 4: BusHardwareId(USB Bus) [bus hardware: USB BUS, protocol: MODBUS VCP, hardware specifier: UsbRoot0, extra hardware specifier: UsbBusVcp]\n",
      "2025-01-08 14:03:27 [INFO] ID 5: BusHardwareId(���� ���� ����* 11 (TAP-Windows Adapter V9 - SecuwaySSLU)) [bus hardware: Network Adapter, protocol: MODBUS TCP, hardware specifier: {6F66967D-2C7A-453E-9BE9-B3C3C041A83C}]\n",
      "2025-01-08 14:03:27 [INFO] ID 6: BusHardwareId(Wi-Fi (Intel(R) Wi-Fi 6E AX211 160MHz)) [bus hardware: Network Adapter, protocol: MODBUS TCP, hardware specifier: {85B9F7EF-9B8F-408F-ABBC-374426446F5C}]\n",
      "2025-01-08 14:03:27 [INFO] ID 7: BusHardwareId(���� ���� ����* 11 (TAP-Windows Adapter V9 - SecuwaySSLU)) [bus hardware: Network Adapter, protocol: RESTful API, hardware specifier: {6F66967D-2C7A-453E-9BE9-B3C3C041A83C}]\n",
      "2025-01-08 14:03:27 [INFO] ID 8: BusHardwareId(Wi-Fi (Intel(R) Wi-Fi 6E AX211 160MHz)) [bus hardware: Network Adapter, protocol: RESTful API, hardware specifier: {85B9F7EF-9B8F-408F-ABBC-374426446F5C}]\n",
      "2025-01-08 14:03:27 [INFO] ID 9: BusHardwareId(USB Bus) [bus hardware: USB BUS, protocol: MSC, hardware specifier: UsbRoot0, extra hardware specifier: UsbBusMsc]\n",
      "2025-01-08 14:03:27 [INFO] Selected bus hardware ID: <nanotec_nanolib.Nanolib.BusHardwareId; proxy of <Swig Object of type 'nlc::BusHardwareId *' at 0x000001956FE4BEA0> >\n"
     ]
    },
    {
     "name": "stdout",
     "output_type": "stream",
     "text": [
      "Scan started.\n",
      "............................................................................................................................."
     ]
    },
    {
     "name": "stderr",
     "output_type": "stream",
     "text": [
      "2025-01-08 14:03:54 [INFO] Device 1 added successfully.\n",
      "2025-01-08 14:03:54 [INFO] Device 2 added successfully.\n"
     ]
    },
    {
     "name": "stdout",
     "output_type": "stream",
     "text": [
      "\n",
      "Scan finished.\n"
     ]
    },
    {
     "name": "stderr",
     "output_type": "stream",
     "text": [
      "2025-01-08 14:03:54 [INFO] Device 1 connected successfully.\n",
      "2025-01-08 14:03:54 [INFO] Device 2 connected successfully.\n"
     ]
    }
   ],
   "source": [
    "controller.find_devices()\n",
    "controller.connect()\n"
   ]
  },
  {
   "cell_type": "code",
   "execution_count": 3,
   "metadata": {},
   "outputs": [
    {
     "data": {
      "text/plain": [
       "1875"
      ]
     },
     "execution_count": 3,
     "metadata": {},
     "output_type": "execute_result"
    }
   ],
   "source": [
    "controller.read_motor_position(1)"
   ]
  },
  {
   "cell_type": "code",
   "execution_count": 4,
   "metadata": {},
   "outputs": [
    {
     "data": {
      "text/plain": [
       "1907"
      ]
     },
     "execution_count": 4,
     "metadata": {},
     "output_type": "execute_result"
    }
   ],
   "source": [
    "controller.read_motor_position(2)"
   ]
  },
  {
   "cell_type": "code",
   "execution_count": 5,
   "metadata": {},
   "outputs": [
    {
     "name": "stderr",
     "output_type": "stream",
     "text": [
      "2025-01-08 14:03:54 [DEBUG] Moving Motor 1 to position -1000 with velocity 5\n",
      "2025-01-08 14:03:54 [DEBUG] Moving Motor 2 to position -1000 with velocity 5\n"
     ]
    },
    {
     "data": {
      "text/plain": [
       "[{'initial_position': 1875,\n",
       "  'final_position': 875,\n",
       "  'position_change': -1000,\n",
       "  'execution_time': 4.339163064956665},\n",
       " {'initial_position': 1907,\n",
       "  'final_position': 908,\n",
       "  'position_change': -999,\n",
       "  'execution_time': 4.368829011917114}]"
      ]
     },
     "execution_count": 5,
     "metadata": {},
     "output_type": "execute_result"
    }
   ],
   "source": [
    "import asyncio\n",
    "\n",
    "await asyncio.gather(\n",
    "    asyncio.to_thread(controller.move_motor, 1, -1000, 5),\n",
    "    asyncio.to_thread(controller.move_motor, 2, -1000, 5)\n",
    ")"
   ]
  },
  {
   "cell_type": "code",
   "execution_count": 6,
   "metadata": {},
   "outputs": [
    {
     "name": "stderr",
     "output_type": "stream",
     "text": [
      "2025-01-08 14:03:59 [INFO] Initializing homing process for Motor...\n",
      "2025-01-08 14:03:59 [INFO] Finding home position for Motor...\n",
      "2025-01-08 14:03:59 [INFO] Monitoring raw value for Motor 1...\n"
     ]
    },
    {
     "name": "stdout",
     "output_type": "stream",
     "text": [
      "None\n"
     ]
    },
    {
     "name": "stderr",
     "output_type": "stream",
     "text": [
      "2025-01-08 14:03:59 [INFO] Monitoring raw value for Motor 2...\n",
      "2025-01-08 14:04:02 [DEBUG] Stopping Motor 1\n",
      "2025-01-08 14:04:02 [INFO] Motor 1 stopped successfully.\n",
      "2025-01-08 14:04:02 [ERROR] Motor 1 halt failed.\n",
      "2025-01-08 14:04:02 [INFO] Home position found for Motor 1.\n",
      "2025-01-08 14:04:02 [DEBUG] Stopping Motor 2\n",
      "2025-01-08 14:04:02 [INFO] Motor 2 stopped successfully.\n",
      "2025-01-08 14:04:02 [ERROR] Motor 2 halt failed.\n",
      "2025-01-08 14:04:02 [INFO] Home position found for Motor 2.\n",
      "2025-01-08 14:04:03 [INFO] Home position for Motor 1 : 1848\n",
      "2025-01-08 14:04:03 [INFO] Home position for Motor 2 : 1917\n",
      "2025-01-08 14:04:03 [INFO] Homing complete. Home position:\n",
      "2025-01-08 14:04:03 [INFO]  Motor 1: 1848, Motor 2: 1917\n",
      "2025-01-08 14:04:03 [INFO] Current position:\n",
      "2025-01-08 14:04:03 [INFO]  Motor 1: 1848, Motor 2: 1917\n"
     ]
    }
   ],
   "source": [
    "await controller.homing()\n",
    "first_pos1 = controller.read_motor_position(1)\n",
    "first_pos2 = controller.read_motor_position(2)"
   ]
  },
  {
   "cell_type": "code",
   "execution_count": 7,
   "metadata": {},
   "outputs": [
    {
     "name": "stderr",
     "output_type": "stream",
     "text": [
      "2025-01-08 14:04:03 [INFO] Initializing homing process for Motor...\n",
      "2025-01-08 14:04:03 [INFO] Finding home position for Motor...\n",
      "2025-01-08 14:04:03 [INFO] Monitoring raw value for Motor 1...\n"
     ]
    },
    {
     "name": "stdout",
     "output_type": "stream",
     "text": [
      "None\n"
     ]
    },
    {
     "name": "stderr",
     "output_type": "stream",
     "text": [
      "2025-01-08 14:04:03 [INFO] Monitoring raw value for Motor 2...\n",
      "2025-01-08 14:04:03 [DEBUG] Stopping Motor 1\n",
      "2025-01-08 14:04:03 [INFO] Motor 1 stopped successfully.\n",
      "2025-01-08 14:04:03 [ERROR] Motor 1 halt failed.\n",
      "2025-01-08 14:04:03 [INFO] Home position found for Motor 1.\n",
      "2025-01-08 14:04:03 [DEBUG] Stopping Motor 2\n",
      "2025-01-08 14:04:03 [INFO] Motor 2 stopped successfully.\n",
      "2025-01-08 14:04:03 [ERROR] Motor 2 halt failed.\n",
      "2025-01-08 14:04:03 [INFO] Home position found for Motor 2.\n",
      "2025-01-08 14:04:04 [INFO] Home position for Motor 1 : 1952\n",
      "2025-01-08 14:04:04 [INFO] Home position for Motor 2 : 2018\n",
      "2025-01-08 14:04:04 [INFO] Homing complete. Home position:\n",
      "2025-01-08 14:04:04 [INFO]  Motor 1: 1952, Motor 2: 2018\n",
      "2025-01-08 14:04:04 [INFO] Current position:\n",
      "2025-01-08 14:04:04 [INFO]  Motor 1: 1952, Motor 2: 2018\n",
      "2025-01-08 14:04:04 [DEBUG] Moving Motor 1 to position -1000 with velocity 5\n",
      "2025-01-08 14:04:04 [DEBUG] Moving Motor 2 to position -1000 with velocity 5\n",
      "2025-01-08 14:04:08 [INFO] Initializing homing process for Motor...\n",
      "2025-01-08 14:04:08 [INFO] Finding home position for Motor...\n",
      "2025-01-08 14:04:08 [INFO] Monitoring raw value for Motor 1...\n"
     ]
    },
    {
     "name": "stdout",
     "output_type": "stream",
     "text": [
      "None\n"
     ]
    },
    {
     "name": "stderr",
     "output_type": "stream",
     "text": [
      "2025-01-08 14:04:08 [INFO] Monitoring raw value for Motor 2...\n",
      "2025-01-08 14:04:11 [DEBUG] Stopping Motor 1\n",
      "2025-01-08 14:04:11 [INFO] Motor 1 stopped successfully.\n",
      "2025-01-08 14:04:11 [ERROR] Motor 1 halt failed.\n",
      "2025-01-08 14:04:11 [INFO] Home position found for Motor 1.\n",
      "2025-01-08 14:04:11 [DEBUG] Stopping Motor 2\n",
      "2025-01-08 14:04:11 [INFO] Motor 2 stopped successfully.\n",
      "2025-01-08 14:04:11 [ERROR] Motor 2 halt failed.\n",
      "2025-01-08 14:04:11 [INFO] Home position found for Motor 2.\n",
      "2025-01-08 14:04:11 [INFO] Home position for Motor 1 : 1863\n",
      "2025-01-08 14:04:11 [INFO] Home position for Motor 2 : 1927\n",
      "2025-01-08 14:04:11 [INFO] Homing complete. Home position:\n",
      "2025-01-08 14:04:11 [INFO]  Motor 1: 1863, Motor 2: 1927\n",
      "2025-01-08 14:04:11 [INFO] Current position:\n",
      "2025-01-08 14:04:11 [INFO]  Motor 1: 1863, Motor 2: 1927\n",
      "2025-01-08 14:04:11 [DEBUG] Moving Motor 1 to position -1000 with velocity 5\n",
      "2025-01-08 14:04:11 [DEBUG] Moving Motor 2 to position -1000 with velocity 5\n",
      "2025-01-08 14:04:16 [INFO] Initializing homing process for Motor...\n",
      "2025-01-08 14:04:16 [INFO] Finding home position for Motor...\n",
      "2025-01-08 14:04:16 [INFO] Monitoring raw value for Motor 1...\n"
     ]
    },
    {
     "name": "stdout",
     "output_type": "stream",
     "text": [
      "None\n"
     ]
    },
    {
     "name": "stderr",
     "output_type": "stream",
     "text": [
      "2025-01-08 14:04:16 [INFO] Monitoring raw value for Motor 2...\n",
      "2025-01-08 14:04:19 [DEBUG] Stopping Motor 2\n",
      "2025-01-08 14:04:19 [INFO] Motor 2 stopped successfully.\n",
      "2025-01-08 14:04:19 [ERROR] Motor 2 halt failed.\n",
      "2025-01-08 14:04:19 [INFO] Home position found for Motor 2.\n",
      "2025-01-08 14:04:19 [DEBUG] Stopping Motor 1\n",
      "2025-01-08 14:04:19 [INFO] Motor 1 stopped successfully.\n",
      "2025-01-08 14:04:19 [ERROR] Motor 1 halt failed.\n",
      "2025-01-08 14:04:19 [INFO] Home position found for Motor 1.\n",
      "2025-01-08 14:04:19 [INFO] Home position for Motor 1 : 1889\n",
      "2025-01-08 14:04:19 [INFO] Home position for Motor 2 : 1906\n",
      "2025-01-08 14:04:19 [INFO] Homing complete. Home position:\n",
      "2025-01-08 14:04:19 [INFO]  Motor 1: 1889, Motor 2: 1906\n",
      "2025-01-08 14:04:19 [INFO] Current position:\n",
      "2025-01-08 14:04:20 [INFO]  Motor 1: 1889, Motor 2: 1906\n",
      "2025-01-08 14:04:20 [DEBUG] Moving Motor 1 to position -1000 with velocity 5\n",
      "2025-01-08 14:04:20 [DEBUG] Moving Motor 2 to position -1000 with velocity 5\n",
      "2025-01-08 14:04:24 [INFO] Initializing homing process for Motor...\n",
      "2025-01-08 14:04:24 [INFO] Finding home position for Motor...\n",
      "2025-01-08 14:04:24 [INFO] Monitoring raw value for Motor 1...\n"
     ]
    },
    {
     "name": "stdout",
     "output_type": "stream",
     "text": [
      "None\n"
     ]
    },
    {
     "name": "stderr",
     "output_type": "stream",
     "text": [
      "2025-01-08 14:04:24 [INFO] Monitoring raw value for Motor 2...\n",
      "2025-01-08 14:04:27 [DEBUG] Stopping Motor 1\n",
      "2025-01-08 14:04:27 [INFO] Motor 1 stopped successfully.\n",
      "2025-01-08 14:04:27 [ERROR] Motor 1 halt failed.\n",
      "2025-01-08 14:04:27 [INFO] Home position found for Motor 1.\n",
      "2025-01-08 14:04:28 [DEBUG] Stopping Motor 2\n",
      "2025-01-08 14:04:28 [INFO] Motor 2 stopped successfully.\n",
      "2025-01-08 14:04:28 [ERROR] Motor 2 halt failed.\n",
      "2025-01-08 14:04:28 [INFO] Home position found for Motor 2.\n",
      "2025-01-08 14:04:28 [INFO] Home position for Motor 1 : 1867\n",
      "2025-01-08 14:04:28 [INFO] Home position for Motor 2 : 1920\n",
      "2025-01-08 14:04:28 [INFO] Homing complete. Home position:\n",
      "2025-01-08 14:04:28 [INFO]  Motor 1: 1867, Motor 2: 1920\n",
      "2025-01-08 14:04:28 [INFO] Current position:\n",
      "2025-01-08 14:04:28 [INFO]  Motor 1: 1867, Motor 2: 1920\n",
      "2025-01-08 14:04:28 [DEBUG] Moving Motor 1 to position -1000 with velocity 5\n",
      "2025-01-08 14:04:28 [DEBUG] Moving Motor 2 to position -1000 with velocity 5\n",
      "2025-01-08 14:04:32 [INFO] Initializing homing process for Motor...\n",
      "2025-01-08 14:04:32 [INFO] Finding home position for Motor...\n",
      "2025-01-08 14:04:32 [INFO] Monitoring raw value for Motor 1...\n"
     ]
    },
    {
     "name": "stdout",
     "output_type": "stream",
     "text": [
      "None\n"
     ]
    },
    {
     "name": "stderr",
     "output_type": "stream",
     "text": [
      "2025-01-08 14:04:32 [INFO] Monitoring raw value for Motor 2...\n",
      "2025-01-08 14:04:36 [DEBUG] Stopping Motor 1\n",
      "2025-01-08 14:04:36 [INFO] Motor 1 stopped successfully.\n",
      "2025-01-08 14:04:36 [ERROR] Motor 1 halt failed.\n",
      "2025-01-08 14:04:36 [INFO] Home position found for Motor 1.\n",
      "2025-01-08 14:04:36 [DEBUG] Stopping Motor 2\n",
      "2025-01-08 14:04:36 [INFO] Motor 2 stopped successfully.\n",
      "2025-01-08 14:04:36 [ERROR] Motor 2 halt failed.\n",
      "2025-01-08 14:04:36 [INFO] Home position found for Motor 2.\n",
      "2025-01-08 14:04:36 [INFO] Home position for Motor 1 : 1874\n",
      "2025-01-08 14:04:36 [INFO] Home position for Motor 2 : 1925\n",
      "2025-01-08 14:04:36 [INFO] Homing complete. Home position:\n",
      "2025-01-08 14:04:36 [INFO]  Motor 1: 1874, Motor 2: 1925\n",
      "2025-01-08 14:04:36 [INFO] Current position:\n",
      "2025-01-08 14:04:36 [INFO]  Motor 1: 1874, Motor 2: 1925\n",
      "2025-01-08 14:04:36 [DEBUG] Moving Motor 1 to position -1000 with velocity 5\n",
      "2025-01-08 14:04:36 [DEBUG] Moving Motor 2 to position -1000 with velocity 5\n",
      "2025-01-08 14:04:40 [INFO] Initializing homing process for Motor...\n",
      "2025-01-08 14:04:40 [INFO] Finding home position for Motor...\n",
      "2025-01-08 14:04:40 [INFO] Monitoring raw value for Motor 1...\n"
     ]
    },
    {
     "name": "stdout",
     "output_type": "stream",
     "text": [
      "None\n"
     ]
    },
    {
     "name": "stderr",
     "output_type": "stream",
     "text": [
      "2025-01-08 14:04:40 [INFO] Monitoring raw value for Motor 2...\n",
      "2025-01-08 14:04:44 [DEBUG] Stopping Motor 1\n",
      "2025-01-08 14:04:44 [INFO] Motor 1 stopped successfully.\n",
      "2025-01-08 14:04:44 [ERROR] Motor 1 halt failed.\n",
      "2025-01-08 14:04:44 [INFO] Home position found for Motor 1.\n",
      "2025-01-08 14:04:44 [DEBUG] Stopping Motor 2\n",
      "2025-01-08 14:04:44 [INFO] Motor 2 stopped successfully.\n",
      "2025-01-08 14:04:44 [ERROR] Motor 2 halt failed.\n",
      "2025-01-08 14:04:44 [INFO] Home position found for Motor 2.\n",
      "2025-01-08 14:04:44 [INFO] Home position for Motor 1 : 1847\n",
      "2025-01-08 14:04:44 [INFO] Home position for Motor 2 : 1930\n",
      "2025-01-08 14:04:44 [INFO] Homing complete. Home position:\n",
      "2025-01-08 14:04:44 [INFO]  Motor 1: 1847, Motor 2: 1930\n",
      "2025-01-08 14:04:44 [INFO] Current position:\n",
      "2025-01-08 14:04:44 [INFO]  Motor 1: 1847, Motor 2: 1930\n",
      "2025-01-08 14:04:44 [DEBUG] Moving Motor 1 to position -1000 with velocity 5\n",
      "2025-01-08 14:04:44 [DEBUG] Moving Motor 2 to position -1000 with velocity 5\n",
      "2025-01-08 14:04:48 [INFO] Initializing homing process for Motor...\n",
      "2025-01-08 14:04:48 [INFO] Finding home position for Motor...\n",
      "2025-01-08 14:04:48 [INFO] Monitoring raw value for Motor 1...\n"
     ]
    },
    {
     "name": "stdout",
     "output_type": "stream",
     "text": [
      "None\n"
     ]
    },
    {
     "name": "stderr",
     "output_type": "stream",
     "text": [
      "2025-01-08 14:04:49 [INFO] Monitoring raw value for Motor 2...\n",
      "2025-01-08 14:04:52 [DEBUG] Stopping Motor 2\n",
      "2025-01-08 14:04:52 [INFO] Motor 2 stopped successfully.\n",
      "2025-01-08 14:04:52 [ERROR] Motor 2 halt failed.\n",
      "2025-01-08 14:04:52 [INFO] Home position found for Motor 2.\n",
      "2025-01-08 14:04:52 [DEBUG] Stopping Motor 1\n",
      "2025-01-08 14:04:52 [INFO] Motor 1 stopped successfully.\n",
      "2025-01-08 14:04:52 [ERROR] Motor 1 halt failed.\n",
      "2025-01-08 14:04:52 [INFO] Home position found for Motor 1.\n",
      "2025-01-08 14:04:52 [INFO] Home position for Motor 1 : 1873\n",
      "2025-01-08 14:04:52 [INFO] Home position for Motor 2 : 1910\n",
      "2025-01-08 14:04:52 [INFO] Homing complete. Home position:\n",
      "2025-01-08 14:04:52 [INFO]  Motor 1: 1873, Motor 2: 1910\n",
      "2025-01-08 14:04:52 [INFO] Current position:\n",
      "2025-01-08 14:04:52 [INFO]  Motor 1: 1873, Motor 2: 1910\n",
      "2025-01-08 14:04:52 [DEBUG] Moving Motor 1 to position -1000 with velocity 5\n",
      "2025-01-08 14:04:52 [DEBUG] Moving Motor 2 to position -1000 with velocity 5\n",
      "2025-01-08 14:04:56 [INFO] Initializing homing process for Motor...\n",
      "2025-01-08 14:04:56 [INFO] Finding home position for Motor...\n",
      "2025-01-08 14:04:57 [INFO] Monitoring raw value for Motor 1...\n"
     ]
    },
    {
     "name": "stdout",
     "output_type": "stream",
     "text": [
      "None\n"
     ]
    },
    {
     "name": "stderr",
     "output_type": "stream",
     "text": [
      "2025-01-08 14:04:57 [INFO] Monitoring raw value for Motor 2...\n",
      "2025-01-08 14:05:00 [DEBUG] Stopping Motor 1\n",
      "2025-01-08 14:05:00 [INFO] Motor 1 stopped successfully.\n",
      "2025-01-08 14:05:00 [ERROR] Motor 1 halt failed.\n",
      "2025-01-08 14:05:00 [INFO] Home position found for Motor 1.\n",
      "2025-01-08 14:05:00 [DEBUG] Stopping Motor 2\n",
      "2025-01-08 14:05:00 [INFO] Motor 2 stopped successfully.\n",
      "2025-01-08 14:05:00 [ERROR] Motor 2 halt failed.\n",
      "2025-01-08 14:05:00 [INFO] Home position found for Motor 2.\n",
      "2025-01-08 14:05:00 [INFO] Home position for Motor 1 : 1855\n",
      "2025-01-08 14:05:00 [INFO] Home position for Motor 2 : 1925\n",
      "2025-01-08 14:05:00 [INFO] Homing complete. Home position:\n",
      "2025-01-08 14:05:00 [INFO]  Motor 1: 1855, Motor 2: 1925\n",
      "2025-01-08 14:05:00 [INFO] Current position:\n",
      "2025-01-08 14:05:00 [INFO]  Motor 1: 1855, Motor 2: 1925\n",
      "2025-01-08 14:05:00 [DEBUG] Moving Motor 1 to position -1000 with velocity 5\n",
      "2025-01-08 14:05:00 [DEBUG] Moving Motor 2 to position -1000 with velocity 5\n",
      "2025-01-08 14:05:05 [INFO] Initializing homing process for Motor...\n",
      "2025-01-08 14:05:05 [INFO] Finding home position for Motor...\n",
      "2025-01-08 14:05:05 [INFO] Monitoring raw value for Motor 1...\n"
     ]
    },
    {
     "name": "stdout",
     "output_type": "stream",
     "text": [
      "None\n"
     ]
    },
    {
     "name": "stderr",
     "output_type": "stream",
     "text": [
      "2025-01-08 14:05:05 [INFO] Monitoring raw value for Motor 2...\n",
      "2025-01-08 14:05:08 [DEBUG] Stopping Motor 2\n",
      "2025-01-08 14:05:08 [INFO] Motor 2 stopped successfully.\n",
      "2025-01-08 14:05:08 [ERROR] Motor 2 halt failed.\n",
      "2025-01-08 14:05:08 [INFO] Home position found for Motor 2.\n",
      "2025-01-08 14:05:08 [DEBUG] Stopping Motor 1\n",
      "2025-01-08 14:05:08 [INFO] Motor 1 stopped successfully.\n",
      "2025-01-08 14:05:08 [ERROR] Motor 1 halt failed.\n",
      "2025-01-08 14:05:08 [INFO] Home position found for Motor 1.\n",
      "2025-01-08 14:05:08 [INFO] Home position for Motor 1 : 1881\n",
      "2025-01-08 14:05:08 [INFO] Home position for Motor 2 : 1904\n",
      "2025-01-08 14:05:08 [INFO] Homing complete. Home position:\n",
      "2025-01-08 14:05:08 [INFO]  Motor 1: 1881, Motor 2: 1904\n",
      "2025-01-08 14:05:08 [INFO] Current position:\n",
      "2025-01-08 14:05:08 [INFO]  Motor 1: 1881, Motor 2: 1904\n",
      "2025-01-08 14:05:08 [DEBUG] Moving Motor 1 to position -1000 with velocity 5\n",
      "2025-01-08 14:05:08 [DEBUG] Moving Motor 2 to position -1000 with velocity 5\n",
      "2025-01-08 14:05:13 [INFO] Initializing homing process for Motor...\n",
      "2025-01-08 14:05:13 [INFO] Finding home position for Motor...\n",
      "2025-01-08 14:05:13 [INFO] Monitoring raw value for Motor 1...\n"
     ]
    },
    {
     "name": "stdout",
     "output_type": "stream",
     "text": [
      "None\n"
     ]
    },
    {
     "name": "stderr",
     "output_type": "stream",
     "text": [
      "2025-01-08 14:05:13 [INFO] Monitoring raw value for Motor 2...\n",
      "2025-01-08 14:05:16 [DEBUG] Stopping Motor 1\n",
      "2025-01-08 14:05:16 [INFO] Motor 1 stopped successfully.\n",
      "2025-01-08 14:05:16 [ERROR] Motor 1 halt failed.\n",
      "2025-01-08 14:05:16 [INFO] Home position found for Motor 1.\n",
      "2025-01-08 14:05:16 [DEBUG] Stopping Motor 2\n",
      "2025-01-08 14:05:16 [INFO] Motor 2 stopped successfully.\n",
      "2025-01-08 14:05:16 [ERROR] Motor 2 halt failed.\n",
      "2025-01-08 14:05:16 [INFO] Home position found for Motor 2.\n",
      "2025-01-08 14:05:16 [INFO] Home position for Motor 1 : 1849\n",
      "2025-01-08 14:05:16 [INFO] Home position for Motor 2 : 1904\n",
      "2025-01-08 14:05:16 [INFO] Homing complete. Home position:\n",
      "2025-01-08 14:05:16 [INFO]  Motor 1: 1849, Motor 2: 1904\n",
      "2025-01-08 14:05:16 [INFO] Current position:\n",
      "2025-01-08 14:05:16 [INFO]  Motor 1: 1849, Motor 2: 1904\n",
      "2025-01-08 14:05:16 [DEBUG] Moving Motor 1 to position -1000 with velocity 5\n",
      "2025-01-08 14:05:16 [DEBUG] Moving Motor 2 to position -1000 with velocity 5\n",
      "2025-01-08 14:05:21 [INFO] Initializing homing process for Motor...\n",
      "2025-01-08 14:05:21 [INFO] Finding home position for Motor...\n",
      "2025-01-08 14:05:21 [INFO] Monitoring raw value for Motor 1...\n"
     ]
    },
    {
     "name": "stdout",
     "output_type": "stream",
     "text": [
      "None\n"
     ]
    },
    {
     "name": "stderr",
     "output_type": "stream",
     "text": [
      "2025-01-08 14:05:21 [INFO] Monitoring raw value for Motor 2...\n",
      "2025-01-08 14:05:24 [DEBUG] Stopping Motor 1\n",
      "2025-01-08 14:05:24 [INFO] Motor 1 stopped successfully.\n",
      "2025-01-08 14:05:24 [ERROR] Motor 1 halt failed.\n",
      "2025-01-08 14:05:24 [INFO] Home position found for Motor 1.\n",
      "2025-01-08 14:05:24 [DEBUG] Stopping Motor 2\n",
      "2025-01-08 14:05:25 [INFO] Motor 2 stopped successfully.\n",
      "2025-01-08 14:05:25 [ERROR] Motor 2 halt failed.\n",
      "2025-01-08 14:05:25 [INFO] Home position found for Motor 2.\n",
      "2025-01-08 14:05:25 [INFO] Home position for Motor 1 : 1860\n",
      "2025-01-08 14:05:25 [INFO] Home position for Motor 2 : 1909\n",
      "2025-01-08 14:05:25 [INFO] Homing complete. Home position:\n",
      "2025-01-08 14:05:25 [INFO]  Motor 1: 1860, Motor 2: 1909\n",
      "2025-01-08 14:05:25 [INFO] Current position:\n",
      "2025-01-08 14:05:25 [INFO]  Motor 1: 1860, Motor 2: 1909\n",
      "2025-01-08 14:05:25 [DEBUG] Moving Motor 1 to position -1000 with velocity 5\n",
      "2025-01-08 14:05:25 [DEBUG] Moving Motor 2 to position -1000 with velocity 5\n",
      "2025-01-08 14:05:29 [INFO] Initializing homing process for Motor...\n",
      "2025-01-08 14:05:29 [INFO] Finding home position for Motor...\n",
      "2025-01-08 14:05:29 [INFO] Monitoring raw value for Motor 1...\n"
     ]
    },
    {
     "name": "stdout",
     "output_type": "stream",
     "text": [
      "None\n"
     ]
    },
    {
     "name": "stderr",
     "output_type": "stream",
     "text": [
      "2025-01-08 14:05:29 [INFO] Monitoring raw value for Motor 2...\n",
      "2025-01-08 14:05:33 [DEBUG] Stopping Motor 1\n",
      "2025-01-08 14:05:33 [INFO] Motor 1 stopped successfully.\n",
      "2025-01-08 14:05:33 [ERROR] Motor 1 halt failed.\n",
      "2025-01-08 14:05:33 [INFO] Home position found for Motor 1.\n",
      "2025-01-08 14:05:33 [DEBUG] Stopping Motor 2\n",
      "2025-01-08 14:05:33 [INFO] Motor 2 stopped successfully.\n",
      "2025-01-08 14:05:33 [ERROR] Motor 2 halt failed.\n",
      "2025-01-08 14:05:33 [INFO] Home position found for Motor 2.\n",
      "2025-01-08 14:05:33 [INFO] Home position for Motor 1 : 1862\n",
      "2025-01-08 14:05:33 [INFO] Home position for Motor 2 : 1914\n",
      "2025-01-08 14:05:33 [INFO] Homing complete. Home position:\n",
      "2025-01-08 14:05:33 [INFO]  Motor 1: 1862, Motor 2: 1914\n",
      "2025-01-08 14:05:33 [INFO] Current position:\n",
      "2025-01-08 14:05:33 [INFO]  Motor 1: 1862, Motor 2: 1914\n",
      "2025-01-08 14:05:33 [DEBUG] Moving Motor 1 to position -1000 with velocity 5\n",
      "2025-01-08 14:05:33 [DEBUG] Moving Motor 2 to position -1000 with velocity 5\n",
      "2025-01-08 14:05:37 [INFO] Initializing homing process for Motor...\n",
      "2025-01-08 14:05:37 [INFO] Finding home position for Motor...\n",
      "2025-01-08 14:05:37 [INFO] Monitoring raw value for Motor 1...\n"
     ]
    },
    {
     "name": "stdout",
     "output_type": "stream",
     "text": [
      "None\n"
     ]
    },
    {
     "name": "stderr",
     "output_type": "stream",
     "text": [
      "2025-01-08 14:05:37 [INFO] Monitoring raw value for Motor 2...\n",
      "2025-01-08 14:05:41 [DEBUG] Stopping Motor 1\n",
      "2025-01-08 14:05:41 [INFO] Motor 1 stopped successfully.\n",
      "2025-01-08 14:05:41 [ERROR] Motor 1 halt failed.\n",
      "2025-01-08 14:05:41 [INFO] Home position found for Motor 1.\n",
      "2025-01-08 14:05:41 [DEBUG] Stopping Motor 2\n",
      "2025-01-08 14:05:41 [INFO] Motor 2 stopped successfully.\n",
      "2025-01-08 14:05:41 [ERROR] Motor 2 halt failed.\n",
      "2025-01-08 14:05:41 [INFO] Home position found for Motor 2.\n",
      "2025-01-08 14:05:41 [INFO] Home position for Motor 1 : 1873\n",
      "2025-01-08 14:05:41 [INFO] Home position for Motor 2 : 1928\n",
      "2025-01-08 14:05:41 [INFO] Homing complete. Home position:\n",
      "2025-01-08 14:05:41 [INFO]  Motor 1: 1873, Motor 2: 1928\n",
      "2025-01-08 14:05:41 [INFO] Current position:\n",
      "2025-01-08 14:05:41 [INFO]  Motor 1: 1873, Motor 2: 1928\n",
      "2025-01-08 14:05:41 [DEBUG] Moving Motor 1 to position -1000 with velocity 5\n",
      "2025-01-08 14:05:41 [DEBUG] Moving Motor 2 to position -1000 with velocity 5\n",
      "2025-01-08 14:05:45 [INFO] Initializing homing process for Motor...\n",
      "2025-01-08 14:05:45 [INFO] Finding home position for Motor...\n",
      "2025-01-08 14:05:45 [INFO] Monitoring raw value for Motor 1...\n"
     ]
    },
    {
     "name": "stdout",
     "output_type": "stream",
     "text": [
      "None\n"
     ]
    },
    {
     "name": "stderr",
     "output_type": "stream",
     "text": [
      "2025-01-08 14:05:46 [INFO] Monitoring raw value for Motor 2...\n",
      "2025-01-08 14:05:49 [DEBUG] Stopping Motor 1\n",
      "2025-01-08 14:05:49 [INFO] Motor 1 stopped successfully.\n",
      "2025-01-08 14:05:49 [ERROR] Motor 1 halt failed.\n",
      "2025-01-08 14:05:49 [INFO] Home position found for Motor 1.\n",
      "2025-01-08 14:05:49 [DEBUG] Stopping Motor 2\n",
      "2025-01-08 14:05:49 [INFO] Motor 2 stopped successfully.\n",
      "2025-01-08 14:05:49 [ERROR] Motor 2 halt failed.\n",
      "2025-01-08 14:05:49 [INFO] Home position found for Motor 2.\n",
      "2025-01-08 14:05:49 [INFO] Home position for Motor 1 : 1856\n",
      "2025-01-08 14:05:49 [INFO] Home position for Motor 2 : 1914\n",
      "2025-01-08 14:05:49 [INFO] Homing complete. Home position:\n",
      "2025-01-08 14:05:49 [INFO]  Motor 1: 1856, Motor 2: 1914\n",
      "2025-01-08 14:05:49 [INFO] Current position:\n",
      "2025-01-08 14:05:49 [INFO]  Motor 1: 1856, Motor 2: 1914\n",
      "2025-01-08 14:05:49 [DEBUG] Moving Motor 1 to position -1000 with velocity 5\n",
      "2025-01-08 14:05:49 [DEBUG] Moving Motor 2 to position -1000 with velocity 5\n",
      "2025-01-08 14:05:53 [INFO] Initializing homing process for Motor...\n",
      "2025-01-08 14:05:53 [INFO] Finding home position for Motor...\n",
      "2025-01-08 14:05:54 [INFO] Monitoring raw value for Motor 1...\n"
     ]
    },
    {
     "name": "stdout",
     "output_type": "stream",
     "text": [
      "None\n"
     ]
    },
    {
     "name": "stderr",
     "output_type": "stream",
     "text": [
      "2025-01-08 14:05:54 [INFO] Monitoring raw value for Motor 2...\n",
      "2025-01-08 14:05:57 [DEBUG] Stopping Motor 1\n",
      "2025-01-08 14:05:57 [INFO] Motor 1 stopped successfully.\n",
      "2025-01-08 14:05:57 [ERROR] Motor 1 halt failed.\n",
      "2025-01-08 14:05:57 [INFO] Home position found for Motor 1.\n",
      "2025-01-08 14:05:57 [DEBUG] Stopping Motor 2\n",
      "2025-01-08 14:05:57 [INFO] Motor 2 stopped successfully.\n",
      "2025-01-08 14:05:57 [ERROR] Motor 2 halt failed.\n",
      "2025-01-08 14:05:57 [INFO] Home position found for Motor 2.\n",
      "2025-01-08 14:05:57 [INFO] Home position for Motor 1 : 1867\n",
      "2025-01-08 14:05:57 [INFO] Home position for Motor 2 : 1918\n",
      "2025-01-08 14:05:57 [INFO] Homing complete. Home position:\n",
      "2025-01-08 14:05:57 [INFO]  Motor 1: 1867, Motor 2: 1918\n",
      "2025-01-08 14:05:57 [INFO] Current position:\n",
      "2025-01-08 14:05:57 [INFO]  Motor 1: 1867, Motor 2: 1918\n",
      "2025-01-08 14:05:57 [DEBUG] Moving Motor 1 to position -1000 with velocity 5\n",
      "2025-01-08 14:05:57 [DEBUG] Moving Motor 2 to position -1000 with velocity 5\n",
      "2025-01-08 14:06:02 [INFO] Initializing homing process for Motor...\n",
      "2025-01-08 14:06:02 [INFO] Finding home position for Motor...\n",
      "2025-01-08 14:06:02 [INFO] Monitoring raw value for Motor 1...\n"
     ]
    },
    {
     "name": "stdout",
     "output_type": "stream",
     "text": [
      "None\n"
     ]
    },
    {
     "name": "stderr",
     "output_type": "stream",
     "text": [
      "2025-01-08 14:06:02 [INFO] Monitoring raw value for Motor 2...\n",
      "2025-01-08 14:06:05 [DEBUG] Stopping Motor 1\n",
      "2025-01-08 14:06:05 [INFO] Motor 1 stopped successfully.\n",
      "2025-01-08 14:06:05 [ERROR] Motor 1 halt failed.\n",
      "2025-01-08 14:06:05 [INFO] Home position found for Motor 1.\n",
      "2025-01-08 14:06:05 [DEBUG] Stopping Motor 2\n",
      "2025-01-08 14:06:05 [INFO] Motor 2 stopped successfully.\n",
      "2025-01-08 14:06:05 [ERROR] Motor 2 halt failed.\n",
      "2025-01-08 14:06:05 [INFO] Home position found for Motor 2.\n",
      "2025-01-08 14:06:05 [INFO] Home position for Motor 1 : 1845\n",
      "2025-01-08 14:06:05 [INFO] Home position for Motor 2 : 1921\n",
      "2025-01-08 14:06:05 [INFO] Homing complete. Home position:\n",
      "2025-01-08 14:06:05 [INFO]  Motor 1: 1845, Motor 2: 1921\n",
      "2025-01-08 14:06:05 [INFO] Current position:\n",
      "2025-01-08 14:06:05 [INFO]  Motor 1: 1845, Motor 2: 1921\n",
      "2025-01-08 14:06:05 [DEBUG] Moving Motor 1 to position -1000 with velocity 5\n",
      "2025-01-08 14:06:05 [DEBUG] Moving Motor 2 to position -1000 with velocity 5\n",
      "2025-01-08 14:06:10 [INFO] Initializing homing process for Motor...\n",
      "2025-01-08 14:06:10 [INFO] Finding home position for Motor...\n",
      "2025-01-08 14:06:10 [INFO] Monitoring raw value for Motor 1...\n"
     ]
    },
    {
     "name": "stdout",
     "output_type": "stream",
     "text": [
      "None\n"
     ]
    },
    {
     "name": "stderr",
     "output_type": "stream",
     "text": [
      "2025-01-08 14:06:10 [INFO] Monitoring raw value for Motor 2...\n",
      "2025-01-08 14:06:13 [DEBUG] Stopping Motor 1\n",
      "2025-01-08 14:06:13 [INFO] Motor 1 stopped successfully.\n",
      "2025-01-08 14:06:13 [ERROR] Motor 1 halt failed.\n",
      "2025-01-08 14:06:13 [INFO] Home position found for Motor 1.\n",
      "2025-01-08 14:06:13 [DEBUG] Stopping Motor 2\n",
      "2025-01-08 14:06:13 [INFO] Motor 2 stopped successfully.\n",
      "2025-01-08 14:06:13 [ERROR] Motor 2 halt failed.\n",
      "2025-01-08 14:06:13 [INFO] Home position found for Motor 2.\n",
      "2025-01-08 14:06:13 [INFO] Home position for Motor 1 : 1856\n",
      "2025-01-08 14:06:13 [INFO] Home position for Motor 2 : 1930\n",
      "2025-01-08 14:06:13 [INFO] Homing complete. Home position:\n",
      "2025-01-08 14:06:13 [INFO]  Motor 1: 1856, Motor 2: 1930\n",
      "2025-01-08 14:06:13 [INFO] Current position:\n",
      "2025-01-08 14:06:13 [INFO]  Motor 1: 1856, Motor 2: 1930\n",
      "2025-01-08 14:06:14 [DEBUG] Moving Motor 1 to position -1000 with velocity 5\n",
      "2025-01-08 14:06:14 [DEBUG] Moving Motor 2 to position -1000 with velocity 5\n",
      "2025-01-08 14:06:18 [INFO] Initializing homing process for Motor...\n",
      "2025-01-08 14:06:18 [INFO] Finding home position for Motor...\n",
      "2025-01-08 14:06:18 [INFO] Monitoring raw value for Motor 1...\n"
     ]
    },
    {
     "name": "stdout",
     "output_type": "stream",
     "text": [
      "None\n"
     ]
    },
    {
     "name": "stderr",
     "output_type": "stream",
     "text": [
      "2025-01-08 14:06:18 [INFO] Monitoring raw value for Motor 2...\n",
      "2025-01-08 14:06:21 [DEBUG] Stopping Motor 2\n",
      "2025-01-08 14:06:21 [INFO] Motor 2 stopped successfully.\n",
      "2025-01-08 14:06:21 [ERROR] Motor 2 halt failed.\n",
      "2025-01-08 14:06:21 [INFO] Home position found for Motor 2.\n",
      "2025-01-08 14:06:21 [DEBUG] Stopping Motor 1\n",
      "2025-01-08 14:06:21 [INFO] Motor 1 stopped successfully.\n",
      "2025-01-08 14:06:21 [ERROR] Motor 1 halt failed.\n",
      "2025-01-08 14:06:22 [INFO] Home position found for Motor 1.\n",
      "2025-01-08 14:06:22 [INFO] Home position for Motor 1 : 1877\n",
      "2025-01-08 14:06:22 [INFO] Home position for Motor 2 : 1906\n",
      "2025-01-08 14:06:22 [INFO] Homing complete. Home position:\n",
      "2025-01-08 14:06:22 [INFO]  Motor 1: 1877, Motor 2: 1906\n",
      "2025-01-08 14:06:22 [INFO] Current position:\n",
      "2025-01-08 14:06:22 [INFO]  Motor 1: 1877, Motor 2: 1906\n",
      "2025-01-08 14:06:22 [DEBUG] Moving Motor 1 to position -1000 with velocity 5\n",
      "2025-01-08 14:06:22 [DEBUG] Moving Motor 2 to position -1000 with velocity 5\n",
      "2025-01-08 14:06:26 [INFO] Initializing homing process for Motor...\n",
      "2025-01-08 14:06:26 [INFO] Finding home position for Motor...\n",
      "2025-01-08 14:06:26 [INFO] Monitoring raw value for Motor 1...\n"
     ]
    },
    {
     "name": "stdout",
     "output_type": "stream",
     "text": [
      "None\n"
     ]
    },
    {
     "name": "stderr",
     "output_type": "stream",
     "text": [
      "2025-01-08 14:06:26 [INFO] Monitoring raw value for Motor 2...\n",
      "2025-01-08 14:06:29 [DEBUG] Stopping Motor 1\n",
      "2025-01-08 14:06:29 [INFO] Motor 1 stopped successfully.\n",
      "2025-01-08 14:06:29 [ERROR] Motor 1 halt failed.\n",
      "2025-01-08 14:06:29 [INFO] Home position found for Motor 1.\n",
      "2025-01-08 14:06:30 [DEBUG] Stopping Motor 2\n",
      "2025-01-08 14:06:30 [INFO] Motor 2 stopped successfully.\n",
      "2025-01-08 14:06:30 [ERROR] Motor 2 halt failed.\n",
      "2025-01-08 14:06:30 [INFO] Home position found for Motor 2.\n",
      "2025-01-08 14:06:30 [INFO] Home position for Motor 1 : 1855\n",
      "2025-01-08 14:06:30 [INFO] Home position for Motor 2 : 1912\n",
      "2025-01-08 14:06:30 [INFO] Homing complete. Home position:\n",
      "2025-01-08 14:06:30 [INFO]  Motor 1: 1855, Motor 2: 1912\n",
      "2025-01-08 14:06:30 [INFO] Current position:\n",
      "2025-01-08 14:06:30 [INFO]  Motor 1: 1855, Motor 2: 1911\n",
      "2025-01-08 14:06:30 [DEBUG] Moving Motor 1 to position -1000 with velocity 5\n",
      "2025-01-08 14:06:30 [DEBUG] Moving Motor 2 to position -1000 with velocity 5\n",
      "2025-01-08 14:06:34 [INFO] Initializing homing process for Motor...\n",
      "2025-01-08 14:06:34 [INFO] Finding home position for Motor...\n",
      "2025-01-08 14:06:34 [INFO] Monitoring raw value for Motor 1...\n"
     ]
    },
    {
     "name": "stdout",
     "output_type": "stream",
     "text": [
      "None\n"
     ]
    },
    {
     "name": "stderr",
     "output_type": "stream",
     "text": [
      "2025-01-08 14:06:34 [INFO] Monitoring raw value for Motor 2...\n",
      "2025-01-08 14:06:38 [DEBUG] Stopping Motor 1\n",
      "2025-01-08 14:06:38 [INFO] Motor 1 stopped successfully.\n",
      "2025-01-08 14:06:38 [ERROR] Motor 1 halt failed.\n",
      "2025-01-08 14:06:38 [INFO] Home position found for Motor 1.\n",
      "2025-01-08 14:06:38 [DEBUG] Stopping Motor 2\n",
      "2025-01-08 14:06:38 [INFO] Motor 2 stopped successfully.\n",
      "2025-01-08 14:06:38 [ERROR] Motor 2 halt failed.\n",
      "2025-01-08 14:06:38 [INFO] Home position found for Motor 2.\n",
      "2025-01-08 14:06:38 [INFO] Home position for Motor 1 : 1866\n",
      "2025-01-08 14:06:38 [INFO] Home position for Motor 2 : 1926\n",
      "2025-01-08 14:06:38 [INFO] Homing complete. Home position:\n",
      "2025-01-08 14:06:38 [INFO]  Motor 1: 1866, Motor 2: 1926\n",
      "2025-01-08 14:06:38 [INFO] Current position:\n",
      "2025-01-08 14:06:38 [INFO]  Motor 1: 1866, Motor 2: 1926\n",
      "2025-01-08 14:06:38 [DEBUG] Moving Motor 1 to position -1000 with velocity 5\n",
      "2025-01-08 14:06:38 [DEBUG] Moving Motor 2 to position -1000 with velocity 5\n",
      "2025-01-08 14:06:42 [INFO] Initializing homing process for Motor...\n",
      "2025-01-08 14:06:42 [INFO] Finding home position for Motor...\n",
      "2025-01-08 14:06:42 [INFO] Monitoring raw value for Motor 1...\n"
     ]
    },
    {
     "name": "stdout",
     "output_type": "stream",
     "text": [
      "None\n"
     ]
    },
    {
     "name": "stderr",
     "output_type": "stream",
     "text": [
      "2025-01-08 14:06:43 [INFO] Monitoring raw value for Motor 2...\n",
      "2025-01-08 14:06:46 [DEBUG] Stopping Motor 2\n",
      "2025-01-08 14:06:46 [INFO] Motor 2 stopped successfully.\n",
      "2025-01-08 14:06:46 [ERROR] Motor 2 halt failed.\n",
      "2025-01-08 14:06:46 [INFO] Home position found for Motor 2.\n",
      "2025-01-08 14:06:46 [DEBUG] Stopping Motor 1\n",
      "2025-01-08 14:06:46 [INFO] Motor 1 stopped successfully.\n",
      "2025-01-08 14:06:46 [ERROR] Motor 1 halt failed.\n",
      "2025-01-08 14:06:46 [INFO] Home position found for Motor 1.\n",
      "2025-01-08 14:06:46 [INFO] Home position for Motor 1 : 1892\n",
      "2025-01-08 14:06:46 [INFO] Home position for Motor 2 : 1906\n",
      "2025-01-08 14:06:46 [INFO] Homing complete. Home position:\n",
      "2025-01-08 14:06:46 [INFO]  Motor 1: 1892, Motor 2: 1906\n",
      "2025-01-08 14:06:46 [INFO] Current position:\n",
      "2025-01-08 14:06:46 [INFO]  Motor 1: 1892, Motor 2: 1906\n",
      "2025-01-08 14:06:46 [DEBUG] Moving Motor 1 to position -1000 with velocity 5\n",
      "2025-01-08 14:06:46 [DEBUG] Moving Motor 2 to position -1000 with velocity 5\n",
      "2025-01-08 14:06:50 [INFO] Initializing homing process for Motor...\n",
      "2025-01-08 14:06:50 [INFO] Finding home position for Motor...\n",
      "2025-01-08 14:06:51 [INFO] Monitoring raw value for Motor 1...\n"
     ]
    },
    {
     "name": "stdout",
     "output_type": "stream",
     "text": [
      "None\n"
     ]
    },
    {
     "name": "stderr",
     "output_type": "stream",
     "text": [
      "2025-01-08 14:06:51 [INFO] Monitoring raw value for Motor 2...\n",
      "2025-01-08 14:06:54 [DEBUG] Stopping Motor 1\n",
      "2025-01-08 14:06:54 [INFO] Motor 1 stopped successfully.\n",
      "2025-01-08 14:06:54 [ERROR] Motor 1 halt failed.\n",
      "2025-01-08 14:06:54 [INFO] Home position found for Motor 1.\n",
      "2025-01-08 14:06:54 [DEBUG] Stopping Motor 2\n",
      "2025-01-08 14:06:54 [INFO] Motor 2 stopped successfully.\n",
      "2025-01-08 14:06:54 [ERROR] Motor 2 halt failed.\n",
      "2025-01-08 14:06:54 [INFO] Home position found for Motor 2.\n",
      "2025-01-08 14:06:54 [INFO] Home position for Motor 1 : 1865\n",
      "2025-01-08 14:06:54 [INFO] Home position for Motor 2 : 1920\n",
      "2025-01-08 14:06:54 [INFO] Homing complete. Home position:\n",
      "2025-01-08 14:06:54 [INFO]  Motor 1: 1865, Motor 2: 1920\n",
      "2025-01-08 14:06:54 [INFO] Current position:\n",
      "2025-01-08 14:06:54 [INFO]  Motor 1: 1865, Motor 2: 1920\n",
      "2025-01-08 14:06:54 [DEBUG] Moving Motor 1 to position -1000 with velocity 5\n",
      "2025-01-08 14:06:54 [DEBUG] Moving Motor 2 to position -1000 with velocity 5\n",
      "2025-01-08 14:06:59 [INFO] Initializing homing process for Motor...\n",
      "2025-01-08 14:06:59 [INFO] Finding home position for Motor...\n",
      "2025-01-08 14:06:59 [INFO] Monitoring raw value for Motor 1...\n"
     ]
    },
    {
     "name": "stdout",
     "output_type": "stream",
     "text": [
      "None\n"
     ]
    },
    {
     "name": "stderr",
     "output_type": "stream",
     "text": [
      "2025-01-08 14:06:59 [INFO] Monitoring raw value for Motor 2...\n",
      "2025-01-08 14:07:02 [DEBUG] Stopping Motor 1\n",
      "2025-01-08 14:07:02 [INFO] Motor 1 stopped successfully.\n",
      "2025-01-08 14:07:02 [ERROR] Motor 1 halt failed.\n",
      "2025-01-08 14:07:02 [INFO] Home position found for Motor 1.\n",
      "2025-01-08 14:07:02 [DEBUG] Stopping Motor 2\n",
      "2025-01-08 14:07:02 [INFO] Motor 2 stopped successfully.\n",
      "2025-01-08 14:07:02 [ERROR] Motor 2 halt failed.\n",
      "2025-01-08 14:07:02 [INFO] Home position found for Motor 2.\n",
      "2025-01-08 14:07:02 [INFO] Home position for Motor 1 : 1876\n",
      "2025-01-08 14:07:02 [INFO] Home position for Motor 2 : 1934\n",
      "2025-01-08 14:07:02 [INFO] Homing complete. Home position:\n",
      "2025-01-08 14:07:02 [INFO]  Motor 1: 1876, Motor 2: 1934\n",
      "2025-01-08 14:07:02 [INFO] Current position:\n",
      "2025-01-08 14:07:02 [INFO]  Motor 1: 1876, Motor 2: 1934\n",
      "2025-01-08 14:07:02 [DEBUG] Moving Motor 1 to position -1000 with velocity 5\n",
      "2025-01-08 14:07:02 [DEBUG] Moving Motor 2 to position -1000 with velocity 5\n",
      "2025-01-08 14:07:07 [INFO] Initializing homing process for Motor...\n",
      "2025-01-08 14:07:07 [INFO] Finding home position for Motor...\n",
      "2025-01-08 14:07:07 [INFO] Monitoring raw value for Motor 1...\n"
     ]
    },
    {
     "name": "stdout",
     "output_type": "stream",
     "text": [
      "None\n"
     ]
    },
    {
     "name": "stderr",
     "output_type": "stream",
     "text": [
      "2025-01-08 14:07:07 [INFO] Monitoring raw value for Motor 2...\n",
      "2025-01-08 14:07:10 [DEBUG] Stopping Motor 1\n",
      "2025-01-08 14:07:10 [INFO] Motor 1 stopped successfully.\n",
      "2025-01-08 14:07:10 [ERROR] Motor 1 halt failed.\n",
      "2025-01-08 14:07:10 [INFO] Home position found for Motor 1.\n",
      "2025-01-08 14:07:10 [DEBUG] Stopping Motor 2\n",
      "2025-01-08 14:07:10 [INFO] Motor 2 stopped successfully.\n",
      "2025-01-08 14:07:10 [ERROR] Motor 2 halt failed.\n",
      "2025-01-08 14:07:10 [INFO] Home position found for Motor 2.\n",
      "2025-01-08 14:07:11 [INFO] Home position for Motor 1 : 1844\n",
      "2025-01-08 14:07:11 [INFO] Home position for Motor 2 : 1935\n",
      "2025-01-08 14:07:11 [INFO] Homing complete. Home position:\n",
      "2025-01-08 14:07:11 [INFO]  Motor 1: 1844, Motor 2: 1935\n",
      "2025-01-08 14:07:11 [INFO] Current position:\n",
      "2025-01-08 14:07:11 [INFO]  Motor 1: 1844, Motor 2: 1935\n",
      "2025-01-08 14:07:11 [DEBUG] Moving Motor 1 to position -1000 with velocity 5\n",
      "2025-01-08 14:07:11 [DEBUG] Moving Motor 2 to position -1000 with velocity 5\n",
      "2025-01-08 14:07:15 [INFO] Initializing homing process for Motor...\n",
      "2025-01-08 14:07:15 [INFO] Finding home position for Motor...\n",
      "2025-01-08 14:07:15 [INFO] Monitoring raw value for Motor 1...\n"
     ]
    },
    {
     "name": "stdout",
     "output_type": "stream",
     "text": [
      "None\n"
     ]
    },
    {
     "name": "stderr",
     "output_type": "stream",
     "text": [
      "2025-01-08 14:07:15 [INFO] Monitoring raw value for Motor 2...\n",
      "2025-01-08 14:07:18 [DEBUG] Stopping Motor 2\n",
      "2025-01-08 14:07:19 [INFO] Motor 2 stopped successfully.\n",
      "2025-01-08 14:07:19 [ERROR] Motor 2 halt failed.\n",
      "2025-01-08 14:07:19 [INFO] Home position found for Motor 2.\n",
      "2025-01-08 14:07:19 [DEBUG] Stopping Motor 1\n",
      "2025-01-08 14:07:19 [INFO] Motor 1 stopped successfully.\n",
      "2025-01-08 14:07:19 [ERROR] Motor 1 halt failed.\n",
      "2025-01-08 14:07:19 [INFO] Home position found for Motor 1.\n",
      "2025-01-08 14:07:19 [INFO] Home position for Motor 1 : 1865\n",
      "2025-01-08 14:07:19 [INFO] Home position for Motor 2 : 1912\n",
      "2025-01-08 14:07:19 [INFO] Homing complete. Home position:\n",
      "2025-01-08 14:07:19 [INFO]  Motor 1: 1865, Motor 2: 1912\n",
      "2025-01-08 14:07:19 [INFO] Current position:\n",
      "2025-01-08 14:07:19 [INFO]  Motor 1: 1865, Motor 2: 1912\n",
      "2025-01-08 14:07:19 [DEBUG] Moving Motor 1 to position -1000 with velocity 5\n",
      "2025-01-08 14:07:19 [DEBUG] Moving Motor 2 to position -1000 with velocity 5\n",
      "2025-01-08 14:07:23 [INFO] Initializing homing process for Motor...\n",
      "2025-01-08 14:07:23 [INFO] Finding home position for Motor...\n",
      "2025-01-08 14:07:23 [INFO] Monitoring raw value for Motor 1...\n"
     ]
    },
    {
     "name": "stdout",
     "output_type": "stream",
     "text": [
      "None\n"
     ]
    },
    {
     "name": "stderr",
     "output_type": "stream",
     "text": [
      "2025-01-08 14:07:23 [INFO] Monitoring raw value for Motor 2...\n",
      "2025-01-08 14:07:27 [DEBUG] Stopping Motor 1\n",
      "2025-01-08 14:07:27 [INFO] Motor 1 stopped successfully.\n",
      "2025-01-08 14:07:27 [ERROR] Motor 1 halt failed.\n",
      "2025-01-08 14:07:27 [INFO] Home position found for Motor 1.\n",
      "2025-01-08 14:07:27 [DEBUG] Stopping Motor 2\n",
      "2025-01-08 14:07:27 [INFO] Motor 2 stopped successfully.\n",
      "2025-01-08 14:07:27 [ERROR] Motor 2 halt failed.\n",
      "2025-01-08 14:07:27 [INFO] Home position found for Motor 2.\n",
      "2025-01-08 14:07:27 [INFO] Home position for Motor 1 : 1852\n",
      "2025-01-08 14:07:27 [INFO] Home position for Motor 2 : 1923\n",
      "2025-01-08 14:07:27 [INFO] Homing complete. Home position:\n",
      "2025-01-08 14:07:27 [INFO]  Motor 1: 1852, Motor 2: 1923\n",
      "2025-01-08 14:07:27 [INFO] Current position:\n",
      "2025-01-08 14:07:27 [INFO]  Motor 1: 1852, Motor 2: 1923\n",
      "2025-01-08 14:07:27 [DEBUG] Moving Motor 1 to position -1000 with velocity 5\n",
      "2025-01-08 14:07:27 [DEBUG] Moving Motor 2 to position -1000 with velocity 5\n",
      "2025-01-08 14:07:31 [INFO] Initializing homing process for Motor...\n",
      "2025-01-08 14:07:31 [INFO] Finding home position for Motor...\n",
      "2025-01-08 14:07:31 [INFO] Monitoring raw value for Motor 1...\n"
     ]
    },
    {
     "name": "stdout",
     "output_type": "stream",
     "text": [
      "None\n"
     ]
    },
    {
     "name": "stderr",
     "output_type": "stream",
     "text": [
      "2025-01-08 14:07:32 [INFO] Monitoring raw value for Motor 2...\n",
      "2025-01-08 14:07:35 [DEBUG] Stopping Motor 1\n",
      "2025-01-08 14:07:35 [INFO] Motor 1 stopped successfully.\n",
      "2025-01-08 14:07:35 [ERROR] Motor 1 halt failed.\n",
      "2025-01-08 14:07:35 [INFO] Home position found for Motor 1.\n",
      "2025-01-08 14:07:35 [DEBUG] Stopping Motor 2\n",
      "2025-01-08 14:07:35 [INFO] Motor 2 stopped successfully.\n",
      "2025-01-08 14:07:35 [ERROR] Motor 2 halt failed.\n",
      "2025-01-08 14:07:35 [INFO] Home position found for Motor 2.\n",
      "2025-01-08 14:07:35 [INFO] Home position for Motor 1 : 1854\n",
      "2025-01-08 14:07:35 [INFO] Home position for Motor 2 : 1924\n",
      "2025-01-08 14:07:35 [INFO] Homing complete. Home position:\n",
      "2025-01-08 14:07:35 [INFO]  Motor 1: 1854, Motor 2: 1924\n",
      "2025-01-08 14:07:35 [INFO] Current position:\n",
      "2025-01-08 14:07:35 [INFO]  Motor 1: 1854, Motor 2: 1924\n",
      "2025-01-08 14:07:35 [DEBUG] Moving Motor 1 to position -1000 with velocity 5\n",
      "2025-01-08 14:07:35 [DEBUG] Moving Motor 2 to position -1000 with velocity 5\n",
      "2025-01-08 14:07:39 [INFO] Initializing homing process for Motor...\n",
      "2025-01-08 14:07:39 [INFO] Finding home position for Motor...\n",
      "2025-01-08 14:07:40 [INFO] Monitoring raw value for Motor 1...\n"
     ]
    },
    {
     "name": "stdout",
     "output_type": "stream",
     "text": [
      "None\n"
     ]
    },
    {
     "name": "stderr",
     "output_type": "stream",
     "text": [
      "2025-01-08 14:07:40 [INFO] Monitoring raw value for Motor 2...\n",
      "2025-01-08 14:07:43 [DEBUG] Stopping Motor 2\n",
      "2025-01-08 14:07:43 [INFO] Motor 2 stopped successfully.\n",
      "2025-01-08 14:07:43 [ERROR] Motor 2 halt failed.\n",
      "2025-01-08 14:07:43 [INFO] Home position found for Motor 2.\n",
      "2025-01-08 14:07:43 [DEBUG] Stopping Motor 1\n",
      "2025-01-08 14:07:43 [INFO] Motor 1 stopped successfully.\n",
      "2025-01-08 14:07:43 [ERROR] Motor 1 halt failed.\n",
      "2025-01-08 14:07:43 [INFO] Home position found for Motor 1.\n",
      "2025-01-08 14:07:43 [INFO] Home position for Motor 1 : 1880\n",
      "2025-01-08 14:07:43 [INFO] Home position for Motor 2 : 1904\n",
      "2025-01-08 14:07:43 [INFO] Homing complete. Home position:\n",
      "2025-01-08 14:07:43 [INFO]  Motor 1: 1880, Motor 2: 1904\n",
      "2025-01-08 14:07:43 [INFO] Current position:\n",
      "2025-01-08 14:07:43 [INFO]  Motor 1: 1880, Motor 2: 1904\n",
      "2025-01-08 14:07:43 [DEBUG] Moving Motor 1 to position -1000 with velocity 5\n",
      "2025-01-08 14:07:43 [DEBUG] Moving Motor 2 to position -1000 with velocity 5\n",
      "2025-01-08 14:07:48 [INFO] Initializing homing process for Motor...\n",
      "2025-01-08 14:07:48 [INFO] Finding home position for Motor...\n",
      "2025-01-08 14:07:48 [INFO] Monitoring raw value for Motor 1...\n"
     ]
    },
    {
     "name": "stdout",
     "output_type": "stream",
     "text": [
      "None\n"
     ]
    },
    {
     "name": "stderr",
     "output_type": "stream",
     "text": [
      "2025-01-08 14:07:48 [INFO] Monitoring raw value for Motor 2...\n",
      "2025-01-08 14:07:51 [DEBUG] Stopping Motor 1\n",
      "2025-01-08 14:07:51 [INFO] Motor 1 stopped successfully.\n",
      "2025-01-08 14:07:51 [ERROR] Motor 1 halt failed.\n",
      "2025-01-08 14:07:51 [INFO] Home position found for Motor 1.\n",
      "2025-01-08 14:07:51 [DEBUG] Stopping Motor 2\n",
      "2025-01-08 14:07:51 [INFO] Motor 2 stopped successfully.\n",
      "2025-01-08 14:07:51 [ERROR] Motor 2 halt failed.\n",
      "2025-01-08 14:07:51 [INFO] Home position found for Motor 2.\n",
      "2025-01-08 14:07:51 [INFO] Home position for Motor 1 : 1858\n",
      "2025-01-08 14:07:51 [INFO] Home position for Motor 2 : 1919\n",
      "2025-01-08 14:07:51 [INFO] Homing complete. Home position:\n",
      "2025-01-08 14:07:51 [INFO]  Motor 1: 1858, Motor 2: 1919\n",
      "2025-01-08 14:07:51 [INFO] Current position:\n",
      "2025-01-08 14:07:51 [INFO]  Motor 1: 1858, Motor 2: 1919\n",
      "2025-01-08 14:07:51 [DEBUG] Moving Motor 1 to position -1000 with velocity 5\n",
      "2025-01-08 14:07:51 [DEBUG] Moving Motor 2 to position -1000 with velocity 5\n",
      "2025-01-08 14:07:56 [INFO] Initializing homing process for Motor...\n",
      "2025-01-08 14:07:56 [INFO] Finding home position for Motor...\n",
      "2025-01-08 14:07:56 [INFO] Monitoring raw value for Motor 1...\n"
     ]
    },
    {
     "name": "stdout",
     "output_type": "stream",
     "text": [
      "None\n"
     ]
    },
    {
     "name": "stderr",
     "output_type": "stream",
     "text": [
      "2025-01-08 14:07:56 [INFO] Monitoring raw value for Motor 2...\n",
      "2025-01-08 14:07:59 [DEBUG] Stopping Motor 1\n",
      "2025-01-08 14:07:59 [INFO] Motor 1 stopped successfully.\n",
      "2025-01-08 14:07:59 [ERROR] Motor 1 halt failed.\n",
      "2025-01-08 14:07:59 [INFO] Home position found for Motor 1.\n",
      "2025-01-08 14:07:59 [DEBUG] Stopping Motor 2\n",
      "2025-01-08 14:07:59 [INFO] Motor 2 stopped successfully.\n",
      "2025-01-08 14:07:59 [ERROR] Motor 2 halt failed.\n",
      "2025-01-08 14:07:59 [INFO] Home position found for Motor 2.\n",
      "2025-01-08 14:07:59 [INFO] Home position for Motor 1 : 1865\n",
      "2025-01-08 14:07:59 [INFO] Home position for Motor 2 : 1928\n",
      "2025-01-08 14:07:59 [INFO] Homing complete. Home position:\n",
      "2025-01-08 14:07:59 [INFO]  Motor 1: 1865, Motor 2: 1928\n",
      "2025-01-08 14:07:59 [INFO] Current position:\n",
      "2025-01-08 14:07:59 [INFO]  Motor 1: 1865, Motor 2: 1928\n",
      "2025-01-08 14:08:00 [DEBUG] Moving Motor 1 to position -1000 with velocity 5\n",
      "2025-01-08 14:08:00 [DEBUG] Moving Motor 2 to position -1000 with velocity 5\n"
     ]
    }
   ],
   "source": [
    "import matplotlib.pyplot as plt\n",
    "\n",
    "pos1_list = []\n",
    "pos2_list = []\n",
    "for i in range(30):\n",
    "    await controller.homing()\n",
    "    pos1 = controller.read_motor_position(1)\n",
    "    pos1_list.append(first_pos1-pos1)\n",
    "    pos2 = controller.read_motor_position(2)\n",
    "    pos2_list.append(first_pos2-pos2)\n",
    "    await asyncio.gather(\n",
    "        asyncio.to_thread(controller.move_motor, 1, -1000, 5),\n",
    "        asyncio.to_thread(controller.move_motor, 2, -1000, 5)\n",
    "    )"
   ]
  },
  {
   "cell_type": "code",
   "execution_count": 8,
   "metadata": {},
   "outputs": [
    {
     "name": "stdout",
     "output_type": "stream",
     "text": [
      "1848 1917\n",
      "[-104, -15, -41, -19, -26, 1, -25, -7, -33, -1, -12, -14, -25, -8, -19, 3, -8, -29, -7, -18, -44, -17, -28, 4, -17, -4, -6, -32, -10, -17]\n",
      "[-101, -10, 11, -3, -8, -13, 7, -8, 13, 13, 8, 3, -11, 3, -1, -4, -13, 11, 6, -9, 11, -3, -17, -18, 5, -6, -7, 13, -2, -11]\n"
     ]
    }
   ],
   "source": [
    "print(first_pos1, first_pos2)\n",
    "print(pos1_list)\n",
    "print(pos2_list)"
   ]
  },
  {
   "cell_type": "code",
   "execution_count": 18,
   "metadata": {},
   "outputs": [
    {
     "data": {
      "text/plain": [
       "-101"
      ]
     },
     "execution_count": 18,
     "metadata": {},
     "output_type": "execute_result"
    }
   ],
   "source": [
    "# 리스트에서 첫번째 값 삭제\n",
    "pos1_list.pop(0)\n",
    "pos2_list.pop(0)"
   ]
  },
  {
   "cell_type": "code",
   "execution_count": 19,
   "metadata": {},
   "outputs": [
    {
     "data": {
      "image/png": "[encoded data removed]",
      "text/plain": [
       "<Figure size 640x480 with 1 Axes>"
      ]
     },
     "metadata": {},
     "output_type": "display_data"
    }
   ],
   "source": [
    "\n",
    "# 추후에 모터 회전 속도가 정확도, 정밀도에 영향을 주는지도 확인\n",
    "# 현재는 velocity 5로 설정되어 있음. \n",
    "# 일단 속도 고정해두고 10번 반복해서 확인해보자.\n",
    "# degree 정확도, 정밀도 확인 -> 어느 정도로 정밀해야 ADC가 안정적인지 여쭤보기.\n",
    "\n",
    "import numpy as np\n",
    "\n",
    "# Constants\n",
    "COUNTS_PER_REVOLUTION = 16200\n",
    "COUNTS_TO_DEGREES = 360 / COUNTS_PER_REVOLUTION\n",
    "\n",
    "# Convert counts to degrees\n",
    "pos1_degrees = [p * COUNTS_TO_DEGREES for p in pos1_list]\n",
    "pos2_degrees = [p * COUNTS_TO_DEGREES for p in pos2_list]\n",
    "\n",
    "# Statistical analysis\n",
    "mean_pos1_deg = np.mean(pos1_degrees)\n",
    "std_pos1_deg = np.std(pos1_degrees)\n",
    "mean_pos2_deg = np.mean(pos2_degrees)\n",
    "std_pos2_deg = np.std(pos2_degrees)"
   ]
  },
  {
   "cell_type": "code",
   "execution_count": 28,
   "metadata": {},
   "outputs": [
    {
     "data": {
      "image/png": "[encoded data removed]",
      "text/plain": [
       "<Figure size 1400x500 with 2 Axes>"
      ]
     },
     "metadata": {},
     "output_type": "display_data"
    }
   ],
   "source": [
    "# count plot 왼쪽에 degree plot를 오른쪽에 출력해해 한그림에 같이 보여주는 것이 좋을 것 같다.\n",
    "# Plotting\n",
    "plt.figure(figsize=(14, 5))\n",
    "plt.subplot(1, 2, 1)\n",
    "plt.plot(pos1_list)\n",
    "plt.plot(pos2_list)\n",
    "plt.xlabel('Iteration')\n",
    "plt.ylabel('Position')\n",
    "plt.legend(['Motor 1', 'Motor 2'])\n",
    "plt.title('Motor home positions anaylsis in Counts')\n",
    "\n",
    "plt.subplot(1, 2, 2)\n",
    "plt.plot(pos1_degrees, label=\"Motor 1\")\n",
    "plt.plot(pos2_degrees, label=\"Motor 2\")\n",
    "plt.title('Motor home positions in Degrees')\n",
    "plt.xlabel('Iteration')\n",
    "plt.ylabel('Degrees')\n",
    "plt.legend()\n",
    "plt.grid()\n",
    "plt.show()\n"
   ]
  },
  {
   "cell_type": "code",
   "execution_count": 21,
   "metadata": {},
   "outputs": [
    {
     "name": "stdout",
     "output_type": "stream",
     "text": [
      "Motor 1:  [-15, -41, -19, -26, 1, -25, -7, -33, -1, -12, -14, -25, -8, -19, 3, -8, -29, -7, -18, -44, -17, -28, 4, -17, -4, -6, -32, -10, -17]\n",
      "Motor 2:  [-10, 11, -3, -8, -13, 7, -8, 13, 13, 8, 3, -11, 3, -1, -4, -13, 11, 6, -9, 11, -3, -17, -18, 5, -6, -7, 13, -2, -11]\n"
     ]
    }
   ],
   "source": [
    "print('Motor 1: ', pos1_list)\n",
    "print('Motor 2: ', pos2_list)"
   ]
  },
  {
   "cell_type": "code",
   "execution_count": 22,
   "metadata": {},
   "outputs": [
    {
     "name": "stdout",
     "output_type": "stream",
     "text": [
      "Position statistics in counts:\n",
      "Motor 1 - Mean: -16.344827586206897, Std Dev: 12.34078145982818\n",
      "Motor 2 - Mean: -1.3793103448275863, Std Dev: 9.528229538852715\n",
      "Position statistics in degrees:\n",
      "Motor 1 - Mean: -0.3632183908045977, Std Dev: 0.2742395879961818\n",
      "Motor 2 - Mean: -0.030651340996168584, Std Dev: 0.211738434196727\n"
     ]
    }
   ],
   "source": [
    "import numpy as np\n",
    "\n",
    "# Convert position lists to numpy arrays for easier computation\n",
    "pos1_array = np.array(pos1_list)\n",
    "pos2_array = np.array(pos2_list)\n",
    "\n",
    "# Compute statistics\n",
    "mean_pos1 = np.mean(pos1_array)\n",
    "std_pos1 = np.std(pos1_array)\n",
    "mean_pos2 = np.mean(pos2_array)\n",
    "std_pos2 = np.std(pos2_array)\n",
    "\n",
    "print(\"Position statistics in counts:\")\n",
    "print(f\"Motor 1 - Mean: {mean_pos1}, Std Dev: {std_pos1}\")\n",
    "print(f\"Motor 2 - Mean: {mean_pos2}, Std Dev: {std_pos2}\")\n",
    "\n",
    "# Constants\n",
    "COUNTS_PER_REVOLUTION = 16200\n",
    "COUNTS_TO_DEGREES = 360 / COUNTS_PER_REVOLUTION\n",
    "\n",
    "# Convert counts to degrees\n",
    "mean_pos1_degree = mean_pos1 * COUNTS_TO_DEGREES\n",
    "std_pos1_degree = std_pos1 * COUNTS_TO_DEGREES\n",
    "mean_pos2_degree = mean_pos2 * COUNTS_TO_DEGREES\n",
    "std_pos2_degree = std_pos2 * COUNTS_TO_DEGREES\n",
    "\n",
    "print(\"Position statistics in degrees:\")\n",
    "print(f\"Motor 1 - Mean: {mean_pos1_degree}, Std Dev: {std_pos1_degree}\")\n",
    "print(f\"Motor 2 - Mean: {mean_pos2_degree}, Std Dev: {std_pos2_degree}\")"
   ]
  },
  {
   "cell_type": "code",
   "execution_count": 23,
   "metadata": {},
   "outputs": [
    {
     "name": "stdout",
     "output_type": "stream",
     "text": [
      "Error statistics in counts:\n",
      "Motor 1 - MAE: 10.03448275862069, Max Error: 29\n",
      "Motor 2 - MAE: 10.206896551724139, Max Error: 23\n",
      "Error statistics in degrees:\n",
      "Motor 1 - MAE: 0.22298850574712648, Max Error: 0.6444444444444445\n",
      "Motor 2 - MAE: 0.22681992337164752, Max Error: 0.5111111111111112\n"
     ]
    }
   ],
   "source": [
    "# Assume ground truth positions for motors (replace these with known values if available)\n",
    "ground_truth_pos1 = pos1_array[0] # Replace with actual expected position for Motor 1\n",
    "ground_truth_pos2 = pos2_array[0]  # Replace with actual expected position for Motor 2\n",
    "\n",
    "# Calculate errors\n",
    "errors_pos1 = pos1_array - ground_truth_pos1\n",
    "errors_pos2 = pos2_array - ground_truth_pos2\n",
    "\n",
    "# Compute mean absolute error (MAE) and maximum error\n",
    "mae_pos1 = np.mean(np.abs(errors_pos1))\n",
    "mae_pos2 = np.mean(np.abs(errors_pos2))\n",
    "max_error_pos1 = np.max(np.abs(errors_pos1))\n",
    "max_error_pos2 = np.max(np.abs(errors_pos2))\n",
    "\n",
    "print(\"Error statistics in counts:\")\n",
    "print(f\"Motor 1 - MAE: {mae_pos1}, Max Error: {max_error_pos1}\")\n",
    "print(f\"Motor 2 - MAE: {mae_pos2}, Max Error: {max_error_pos2}\")\n",
    "\n",
    "# convert to degrees\n",
    "mae_pos1_degree = mae_pos1 * COUNTS_TO_DEGREES\n",
    "mae_pos2_degree = mae_pos2 * COUNTS_TO_DEGREES\n",
    "max_error_pos1_degree = max_error_pos1 * COUNTS_TO_DEGREES\n",
    "max_error_pos2_degree = max_error_pos2 * COUNTS_TO_DEGREES\n",
    "\n",
    "print(\"Error statistics in degrees:\")\n",
    "print(f\"Motor 1 - MAE: {mae_pos1_degree}, Max Error: {max_error_pos1_degree}\")\n",
    "print(f\"Motor 2 - MAE: {mae_pos2_degree}, Max Error: {max_error_pos2_degree}\")\n"
   ]
  },
  {
   "cell_type": "code",
   "execution_count": 25,
   "metadata": {},
   "outputs": [
    {
     "data": {
      "image/png": "[encoded data removed]",
      "text/plain": [
       "<Figure size 1000x500 with 2 Axes>"
      ]
     },
     "metadata": {},
     "output_type": "display_data"
    }
   ],
   "source": [
    "# count error를 왼쪽에 degree error를 오른쪽에 출력해해 한그림에 같이 보여주는 것이 좋을 것 같다.\n",
    "plt.figure(figsize=(10, 5))\n",
    "plt.subplot(1, 2, 1)\n",
    "plt.hist(errors_pos1, bins=10, alpha=0.5, label='Motor 1 Error')\n",
    "plt.hist(errors_pos2, bins=10, alpha=0.5, label='Motor 2 Error')\n",
    "plt.title('Home Position Errors (counts)')\n",
    "plt.xlabel('Error')\n",
    "plt.ylabel('Frequency')\n",
    "plt.legend()\n",
    "\n",
    "plt.subplot(1, 2, 2)\n",
    "plt.hist(errors_pos1 * COUNTS_TO_DEGREES, bins=10, alpha=0.5, label='Motor 1 Error')\n",
    "plt.hist(errors_pos2 * COUNTS_TO_DEGREES, bins=10, alpha=0.5, label='Motor 2 Error')\n",
    "plt.title('Home Position Errors (degrees)')\n",
    "plt.xlabel('Error')\n",
    "plt.ylabel('Frequency')\n",
    "plt.legend()\n",
    "plt.show()"
   ]
  },
  {
   "cell_type": "code",
   "execution_count": 16,
   "metadata": {},
   "outputs": [
    {
     "name": "stderr",
     "output_type": "stream",
     "text": [
      "2025-01-08 14:08:06 [INFO] Initializing homing process for Motor...\n",
      "2025-01-08 14:08:06 [INFO] Finding home position for Motor...\n",
      "2025-01-08 14:08:06 [INFO] Monitoring raw value for Motor 1...\n"
     ]
    },
    {
     "name": "stdout",
     "output_type": "stream",
     "text": [
      "None\n"
     ]
    },
    {
     "name": "stderr",
     "output_type": "stream",
     "text": [
      "2025-01-08 14:08:06 [INFO] Monitoring raw value for Motor 2...\n",
      "2025-01-08 14:08:09 [DEBUG] Stopping Motor 1\n",
      "2025-01-08 14:08:09 [INFO] Motor 1 stopped successfully.\n",
      "2025-01-08 14:08:09 [ERROR] Motor 1 halt failed.\n",
      "2025-01-08 14:08:09 [INFO] Home position found for Motor 1.\n",
      "2025-01-08 14:08:09 [DEBUG] Stopping Motor 2\n",
      "2025-01-08 14:08:09 [INFO] Motor 2 stopped successfully.\n",
      "2025-01-08 14:08:09 [ERROR] Motor 2 halt failed.\n",
      "2025-01-08 14:08:09 [INFO] Home position found for Motor 2.\n",
      "2025-01-08 14:08:09 [INFO] Home position for Motor 1 : 1866\n",
      "2025-01-08 14:08:09 [INFO] Home position for Motor 2 : 1928\n",
      "2025-01-08 14:08:09 [INFO] Homing complete. Home position:\n",
      "2025-01-08 14:08:09 [INFO]  Motor 1: 1866, Motor 2: 1928\n",
      "2025-01-08 14:08:09 [INFO] Current position:\n",
      "2025-01-08 14:08:09 [INFO]  Motor 1: 1866, Motor 2: 1928\n"
     ]
    }
   ],
   "source": [
    "await controller.homing()"
   ]
  },
  {
   "cell_type": "code",
   "execution_count": 17,
   "metadata": {},
   "outputs": [],
   "source": [
    "#controller.disconnect()\n",
    "#controller.power_off()"
   ]
  }
 ],
 "metadata": {
  "kernelspec": {
   "display_name": "kspectest",
   "language": "python",
   "name": "python3"
  },
  "language_info": {
   "codemirror_mode": {
    "name": "ipython",
    "version": 3
   },
   "file_extension": ".py",
   "mimetype": "text/x-python",
   "name": "python",
   "nbconvert_exporter": "python",
   "pygments_lexer": "ipython3",
   "version": "3.11.11"
  }
 },
 "nbformat": 4,
 "nbformat_minor": 2
}
