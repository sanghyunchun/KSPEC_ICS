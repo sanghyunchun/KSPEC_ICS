{
 "cells": [
  {
   "cell_type": "code",
   "execution_count": null,
   "id": "fd79e678-f6c4-463c-84ed-0e2d42dfc0d9",
   "metadata": {},
   "outputs": [],
   "source": [
    "from astropy.io import fits\n",
    "import matplotlib.pyplot as plt"
   ]
  },
  {
   "cell_type": "code",
   "execution_count": 2,
   "id": "68cde9ac-c86d-485e-a7f1-1a0181bd33fa",
   "metadata": {},
   "outputs": [],
   "source": [
    "hdul=fits.open('./endo_controller/data/test_20250106_100611.fits')"
   ]
  },
  {
   "cell_type": "code",
   "execution_count": null,
   "id": "2d1e0f8e-046c-483a-bb69-2fb81b6b5d34",
   "metadata": {},
   "outputs": [],
   "source": [
    "data=hdul[0].data\n",
    "print(data.shape)"
   ]
  },
  {
   "cell_type": "code",
   "execution_count": null,
   "id": "fe6fed16-47c4-4e05-9c2e-899e3d650074",
   "metadata": {},
   "outputs": [],
   "source": [
    "plt.imshow(data,origin='lower')"
   ]
  },
  {
   "cell_type": "code",
   "execution_count": null,
   "id": "bee4c701-02ef-483b-ada7-741094c8ee35",
   "metadata": {},
   "outputs": [],
   "source": []
  }
 ],
 "metadata": {
  "kernelspec": {
   "display_name": "kspectest",
   "language": "python",
   "name": "python3"
  },
  "language_info": {
   "codemirror_mode": {
    "name": "ipython",
    "version": 3
   },
   "file_extension": ".py",
   "mimetype": "text/x-python",
   "name": "python",
   "nbconvert_exporter": "python",
   "pygments_lexer": "ipython3",
   "version": "3.12.7"
  }
 },
 "nbformat": 4,
 "nbformat_minor": 5
}
